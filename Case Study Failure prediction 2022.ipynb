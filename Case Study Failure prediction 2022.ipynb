{
 "cells": [
  {
   "cell_type": "markdown",
   "id": "d053b9ca",
   "metadata": {},
   "source": [
    "# Case Study: Monitoring and failure prediction of health monitoring device\n",
    "\n",
    "September 2022 <br>\n",
    "Fatih Catpinar"
   ]
  },
  {
   "cell_type": "markdown",
   "id": "7e9b368e",
   "metadata": {},
   "source": [
    "For clinical trials, in order to reduce the cost, remote health monitoring devices are used to monitor patients’ parameters at homes. However, verifying if measurements of devices are not impacted by their technical fault is a challenging problem.  \n",
    "\n",
    "The task is to build a model to predict device failure given the daily aggregated device telemetry readings."
   ]
  },
  {
   "cell_type": "code",
   "execution_count": 1,
   "id": "ed7e49e9",
   "metadata": {},
   "outputs": [],
   "source": [
    "# Load libraries\n",
    "import pandas as pd\n",
    "import numpy as np\n",
    "import math\n",
    "\n",
    "import matplotlib.pyplot as plt\n",
    "import seaborn as sns\n",
    "\n",
    "from sklearn.model_selection import train_test_split\n",
    "from sklearn.datasets import load_iris\n",
    "from sklearn.linear_model import LogisticRegression\n",
    "from sklearn.metrics import confusion_matrix\n",
    "from sklearn.preprocessing import PowerTransformer\n",
    "from imblearn.over_sampling import SMOTE\n",
    "from sklearn.preprocessing import PowerTransformer\n"
   ]
  },
  {
   "cell_type": "markdown",
   "id": "2fd616e7",
   "metadata": {},
   "source": [
    "## Table of Contents\n",
    "1. Explore and clean the data\n",
    "2. Data transformations and Feature Engineering¶\n",
    "3. Create the model\n",
    "4. Conclusion"
   ]
  },
  {
   "cell_type": "markdown",
   "id": "8fd24141",
   "metadata": {},
   "source": [
    "## 1. Explore and clean the data"
   ]
  },
  {
   "cell_type": "markdown",
   "id": "7861a54c",
   "metadata": {},
   "source": [
    "The first step is loading the data and exploring. Before we doing analyses and creating classification models, we need to understand the data and make sure there is no incorrect, corrupted, incorrectly formatted, duplicate, or incomplete data within a dataset.\n",
    "\n"
   ]
  },
  {
   "cell_type": "markdown",
   "id": "9701a008",
   "metadata": {},
   "source": [
    "### Initial inspection"
   ]
  },
  {
   "cell_type": "markdown",
   "id": "669d6f3d",
   "metadata": {},
   "source": [
    "There are 124,494 rows and 12 columns. In each row, we have the device number, date, failure status, and 9 sensor readings."
   ]
  },
  {
   "cell_type": "code",
   "execution_count": 2,
   "id": "4efd2afe",
   "metadata": {},
   "outputs": [],
   "source": [
    "df = pd.read_csv('Case_1_Data_device_failure.csv')"
   ]
  },
  {
   "cell_type": "code",
   "execution_count": 3,
   "id": "c08d2555",
   "metadata": {},
   "outputs": [
    {
     "data": {
      "text/plain": [
       "(124494, 12)"
      ]
     },
     "execution_count": 3,
     "metadata": {},
     "output_type": "execute_result"
    }
   ],
   "source": [
    "df.shape"
   ]
  },
  {
   "cell_type": "code",
   "execution_count": 4,
   "id": "a54253cd",
   "metadata": {},
   "outputs": [
    {
     "data": {
      "text/html": [
       "<div>\n",
       "<style scoped>\n",
       "    .dataframe tbody tr th:only-of-type {\n",
       "        vertical-align: middle;\n",
       "    }\n",
       "\n",
       "    .dataframe tbody tr th {\n",
       "        vertical-align: top;\n",
       "    }\n",
       "\n",
       "    .dataframe thead th {\n",
       "        text-align: right;\n",
       "    }\n",
       "</style>\n",
       "<table border=\"1\" class=\"dataframe\">\n",
       "  <thead>\n",
       "    <tr style=\"text-align: right;\">\n",
       "      <th></th>\n",
       "      <th>date</th>\n",
       "      <th>device</th>\n",
       "      <th>failure</th>\n",
       "      <th>attribute1</th>\n",
       "      <th>attribute2</th>\n",
       "      <th>attribute3</th>\n",
       "      <th>attribute4</th>\n",
       "      <th>attribute5</th>\n",
       "      <th>attribute6</th>\n",
       "      <th>attribute7</th>\n",
       "      <th>attribute8</th>\n",
       "      <th>attribute9</th>\n",
       "    </tr>\n",
       "  </thead>\n",
       "  <tbody>\n",
       "    <tr>\n",
       "      <th>0</th>\n",
       "      <td>2015-01-01</td>\n",
       "      <td>S1F01085</td>\n",
       "      <td>0</td>\n",
       "      <td>215630672</td>\n",
       "      <td>56</td>\n",
       "      <td>0</td>\n",
       "      <td>52</td>\n",
       "      <td>6</td>\n",
       "      <td>407438</td>\n",
       "      <td>0</td>\n",
       "      <td>0</td>\n",
       "      <td>7</td>\n",
       "    </tr>\n",
       "    <tr>\n",
       "      <th>1</th>\n",
       "      <td>2015-01-01</td>\n",
       "      <td>S1F0166B</td>\n",
       "      <td>0</td>\n",
       "      <td>61370680</td>\n",
       "      <td>0</td>\n",
       "      <td>3</td>\n",
       "      <td>0</td>\n",
       "      <td>6</td>\n",
       "      <td>403174</td>\n",
       "      <td>0</td>\n",
       "      <td>0</td>\n",
       "      <td>0</td>\n",
       "    </tr>\n",
       "    <tr>\n",
       "      <th>2</th>\n",
       "      <td>2015-01-01</td>\n",
       "      <td>S1F01E6Y</td>\n",
       "      <td>0</td>\n",
       "      <td>173295968</td>\n",
       "      <td>0</td>\n",
       "      <td>0</td>\n",
       "      <td>0</td>\n",
       "      <td>12</td>\n",
       "      <td>237394</td>\n",
       "      <td>0</td>\n",
       "      <td>0</td>\n",
       "      <td>0</td>\n",
       "    </tr>\n",
       "    <tr>\n",
       "      <th>3</th>\n",
       "      <td>2015-01-01</td>\n",
       "      <td>S1F01JE0</td>\n",
       "      <td>0</td>\n",
       "      <td>79694024</td>\n",
       "      <td>0</td>\n",
       "      <td>0</td>\n",
       "      <td>0</td>\n",
       "      <td>6</td>\n",
       "      <td>410186</td>\n",
       "      <td>0</td>\n",
       "      <td>0</td>\n",
       "      <td>0</td>\n",
       "    </tr>\n",
       "    <tr>\n",
       "      <th>4</th>\n",
       "      <td>2015-01-01</td>\n",
       "      <td>S1F01R2B</td>\n",
       "      <td>0</td>\n",
       "      <td>135970480</td>\n",
       "      <td>0</td>\n",
       "      <td>0</td>\n",
       "      <td>0</td>\n",
       "      <td>15</td>\n",
       "      <td>313173</td>\n",
       "      <td>0</td>\n",
       "      <td>0</td>\n",
       "      <td>3</td>\n",
       "    </tr>\n",
       "  </tbody>\n",
       "</table>\n",
       "</div>"
      ],
      "text/plain": [
       "         date    device  failure  attribute1  attribute2  attribute3  \\\n",
       "0  2015-01-01  S1F01085        0   215630672          56           0   \n",
       "1  2015-01-01  S1F0166B        0    61370680           0           3   \n",
       "2  2015-01-01  S1F01E6Y        0   173295968           0           0   \n",
       "3  2015-01-01  S1F01JE0        0    79694024           0           0   \n",
       "4  2015-01-01  S1F01R2B        0   135970480           0           0   \n",
       "\n",
       "   attribute4  attribute5  attribute6  attribute7  attribute8  attribute9  \n",
       "0          52           6      407438           0           0           7  \n",
       "1           0           6      403174           0           0           0  \n",
       "2           0          12      237394           0           0           0  \n",
       "3           0           6      410186           0           0           0  \n",
       "4           0          15      313173           0           0           3  "
      ]
     },
     "execution_count": 4,
     "metadata": {},
     "output_type": "execute_result"
    }
   ],
   "source": [
    "df.head()"
   ]
  },
  {
   "cell_type": "code",
   "execution_count": 5,
   "id": "1537bb1c",
   "metadata": {},
   "outputs": [
    {
     "data": {
      "text/plain": [
       "1169"
      ]
     },
     "execution_count": 5,
     "metadata": {},
     "output_type": "execute_result"
    }
   ],
   "source": [
    "# Check number of unique devices\n",
    "df['device'].nunique()"
   ]
  },
  {
   "cell_type": "markdown",
   "id": "85c805e8",
   "metadata": {},
   "source": [
    "There are 1169 unique devices in the data."
   ]
  },
  {
   "cell_type": "markdown",
   "id": "26963c15",
   "metadata": {},
   "source": [
    "### Check the dates"
   ]
  },
  {
   "cell_type": "markdown",
   "id": "d0beea98",
   "metadata": {},
   "source": [
    "The data is from 2015-01-01 and 2015-11-02. There are 305 days in between, We have 1169 unique devices. We had 124,494 readings in the data. It means we don't have daily readings for every device."
   ]
  },
  {
   "cell_type": "code",
   "execution_count": 6,
   "id": "85eb8cc8",
   "metadata": {},
   "outputs": [
    {
     "name": "stdout",
     "output_type": "stream",
     "text": [
      "2015-01-01 00:00:00\n",
      "2015-11-02 00:00:00\n"
     ]
    }
   ],
   "source": [
    "# Convert dates to datetime\n",
    "df['date'] = pd.to_datetime(df['date'])\n",
    "\n",
    "print(df['date'].min())\n",
    "print(df['date'].max())"
   ]
  },
  {
   "cell_type": "code",
   "execution_count": 7,
   "id": "7da02f23",
   "metadata": {},
   "outputs": [
    {
     "data": {
      "text/plain": [
       "305"
      ]
     },
     "execution_count": 7,
     "metadata": {},
     "output_type": "execute_result"
    }
   ],
   "source": [
    "# Number of days between the frist date and the last date\n",
    "(df['date'].max() - df['date'].min()).days"
   ]
  },
  {
   "cell_type": "code",
   "execution_count": 8,
   "id": "4aeb7d44",
   "metadata": {},
   "outputs": [
    {
     "data": {
      "text/plain": [
       "356545"
      ]
     },
     "execution_count": 8,
     "metadata": {},
     "output_type": "execute_result"
    }
   ],
   "source": [
    "1169*305"
   ]
  },
  {
   "cell_type": "code",
   "execution_count": 9,
   "id": "ad0f9238",
   "metadata": {},
   "outputs": [
    {
     "data": {
      "text/plain": [
       "(304, 11)"
      ]
     },
     "execution_count": 9,
     "metadata": {},
     "output_type": "execute_result"
    }
   ],
   "source": [
    "# Number of different days in the data\n",
    "df.groupby(['date']).agg(['count']).shape"
   ]
  },
  {
   "cell_type": "markdown",
   "id": "25f78624",
   "metadata": {},
   "source": [
    "There are 304 unique dates."
   ]
  },
  {
   "cell_type": "code",
   "execution_count": 10,
   "id": "493d435d",
   "metadata": {},
   "outputs": [
    {
     "data": {
      "text/plain": [
       "S1F0FP0C    304\n",
       "W1F05X69    304\n",
       "Z1F0QK05    304\n",
       "S1F0GCED    304\n",
       "W1F0SJJ2    304\n",
       "           ... \n",
       "Z1F0LT6Z      5\n",
       "Z1F11RAE      5\n",
       "S1F04KSC      4\n",
       "W1F0WJFT      3\n",
       "W1F1DA5�      1\n",
       "Name: device, Length: 1169, dtype: int64"
      ]
     },
     "execution_count": 10,
     "metadata": {},
     "output_type": "execute_result"
    }
   ],
   "source": [
    "# Number of readings for each device\n",
    "df['device'].value_counts()"
   ]
  },
  {
   "cell_type": "code",
   "execution_count": 11,
   "id": "c911e068",
   "metadata": {},
   "outputs": [
    {
     "data": {
      "text/plain": [
       "count    1169.000000\n",
       "mean      106.496151\n",
       "std       102.651601\n",
       "min         1.000000\n",
       "25%         6.000000\n",
       "50%        84.000000\n",
       "75%       224.000000\n",
       "max       304.000000\n",
       "Name: device, dtype: float64"
      ]
     },
     "execution_count": 11,
     "metadata": {},
     "output_type": "execute_result"
    }
   ],
   "source": [
    "# Stats of readings count\n",
    "df['device'].value_counts().describe()"
   ]
  },
  {
   "cell_type": "markdown",
   "id": "b2bda045",
   "metadata": {},
   "source": [
    "This shows how many readings each device has. The maximum reading cound is 304. The mean is 106."
   ]
  },
  {
   "cell_type": "code",
   "execution_count": 12,
   "id": "ed4bf10e",
   "metadata": {},
   "outputs": [
    {
     "data": {
      "text/plain": [
       "1"
      ]
     },
     "execution_count": 12,
     "metadata": {},
     "output_type": "execute_result"
    }
   ],
   "source": [
    "# Check if there is any device that has two measurement in a day.\n",
    "df.duplicated(subset=['date', 'device']).sum()"
   ]
  },
  {
   "cell_type": "code",
   "execution_count": 13,
   "id": "44c06eb1",
   "metadata": {},
   "outputs": [
    {
     "data": {
      "text/html": [
       "<div>\n",
       "<style scoped>\n",
       "    .dataframe tbody tr th:only-of-type {\n",
       "        vertical-align: middle;\n",
       "    }\n",
       "\n",
       "    .dataframe tbody tr th {\n",
       "        vertical-align: top;\n",
       "    }\n",
       "\n",
       "    .dataframe thead th {\n",
       "        text-align: right;\n",
       "    }\n",
       "</style>\n",
       "<table border=\"1\" class=\"dataframe\">\n",
       "  <thead>\n",
       "    <tr style=\"text-align: right;\">\n",
       "      <th></th>\n",
       "      <th>date</th>\n",
       "      <th>device</th>\n",
       "      <th>failure</th>\n",
       "      <th>attribute1</th>\n",
       "      <th>attribute2</th>\n",
       "      <th>attribute3</th>\n",
       "      <th>attribute4</th>\n",
       "      <th>attribute5</th>\n",
       "      <th>attribute6</th>\n",
       "      <th>attribute7</th>\n",
       "      <th>attribute8</th>\n",
       "      <th>attribute9</th>\n",
       "    </tr>\n",
       "  </thead>\n",
       "  <tbody>\n",
       "    <tr>\n",
       "      <th>101335</th>\n",
       "      <td>2015-07-10</td>\n",
       "      <td>S1F0R4Q8</td>\n",
       "      <td>0</td>\n",
       "      <td>192721392</td>\n",
       "      <td>0</td>\n",
       "      <td>0</td>\n",
       "      <td>0</td>\n",
       "      <td>8</td>\n",
       "      <td>213700</td>\n",
       "      <td>0</td>\n",
       "      <td>0</td>\n",
       "      <td>0</td>\n",
       "    </tr>\n",
       "  </tbody>\n",
       "</table>\n",
       "</div>"
      ],
      "text/plain": [
       "             date    device  failure  attribute1  attribute2  attribute3  \\\n",
       "101335 2015-07-10  S1F0R4Q8        0   192721392           0           0   \n",
       "\n",
       "        attribute4  attribute5  attribute6  attribute7  attribute8  attribute9  \n",
       "101335           0           8      213700           0           0           0  "
      ]
     },
     "execution_count": 13,
     "metadata": {},
     "output_type": "execute_result"
    }
   ],
   "source": [
    "df[df.duplicated(subset=['date', 'device']) == True]"
   ]
  },
  {
   "cell_type": "markdown",
   "id": "6f3a8936",
   "metadata": {},
   "source": [
    "There is one device that has 2 readings in the same day. Need to investigate, it might be a duplicate."
   ]
  },
  {
   "cell_type": "markdown",
   "id": "b2f350ef",
   "metadata": {},
   "source": [
    "### Handle the duplicates"
   ]
  },
  {
   "cell_type": "code",
   "execution_count": 14,
   "id": "37a4f7f4",
   "metadata": {},
   "outputs": [
    {
     "data": {
      "text/plain": [
       "1"
      ]
     },
     "execution_count": 14,
     "metadata": {},
     "output_type": "execute_result"
    }
   ],
   "source": [
    "# Check any duplicates\n",
    "df.duplicated().sum()"
   ]
  },
  {
   "cell_type": "markdown",
   "id": "7dd182cf",
   "metadata": {},
   "source": [
    "There is one duplicated row."
   ]
  },
  {
   "cell_type": "code",
   "execution_count": 15,
   "id": "4a4829f1",
   "metadata": {},
   "outputs": [
    {
     "data": {
      "text/html": [
       "<div>\n",
       "<style scoped>\n",
       "    .dataframe tbody tr th:only-of-type {\n",
       "        vertical-align: middle;\n",
       "    }\n",
       "\n",
       "    .dataframe tbody tr th {\n",
       "        vertical-align: top;\n",
       "    }\n",
       "\n",
       "    .dataframe thead th {\n",
       "        text-align: right;\n",
       "    }\n",
       "</style>\n",
       "<table border=\"1\" class=\"dataframe\">\n",
       "  <thead>\n",
       "    <tr style=\"text-align: right;\">\n",
       "      <th></th>\n",
       "      <th>date</th>\n",
       "      <th>device</th>\n",
       "      <th>failure</th>\n",
       "      <th>attribute1</th>\n",
       "      <th>attribute2</th>\n",
       "      <th>attribute3</th>\n",
       "      <th>attribute4</th>\n",
       "      <th>attribute5</th>\n",
       "      <th>attribute6</th>\n",
       "      <th>attribute7</th>\n",
       "      <th>attribute8</th>\n",
       "      <th>attribute9</th>\n",
       "    </tr>\n",
       "  </thead>\n",
       "  <tbody>\n",
       "    <tr>\n",
       "      <th>101334</th>\n",
       "      <td>2015-07-10</td>\n",
       "      <td>S1F0R4Q8</td>\n",
       "      <td>0</td>\n",
       "      <td>192721392</td>\n",
       "      <td>0</td>\n",
       "      <td>0</td>\n",
       "      <td>0</td>\n",
       "      <td>8</td>\n",
       "      <td>213700</td>\n",
       "      <td>0</td>\n",
       "      <td>0</td>\n",
       "      <td>0</td>\n",
       "    </tr>\n",
       "    <tr>\n",
       "      <th>101335</th>\n",
       "      <td>2015-07-10</td>\n",
       "      <td>S1F0R4Q8</td>\n",
       "      <td>0</td>\n",
       "      <td>192721392</td>\n",
       "      <td>0</td>\n",
       "      <td>0</td>\n",
       "      <td>0</td>\n",
       "      <td>8</td>\n",
       "      <td>213700</td>\n",
       "      <td>0</td>\n",
       "      <td>0</td>\n",
       "      <td>0</td>\n",
       "    </tr>\n",
       "  </tbody>\n",
       "</table>\n",
       "</div>"
      ],
      "text/plain": [
       "             date    device  failure  attribute1  attribute2  attribute3  \\\n",
       "101334 2015-07-10  S1F0R4Q8        0   192721392           0           0   \n",
       "101335 2015-07-10  S1F0R4Q8        0   192721392           0           0   \n",
       "\n",
       "        attribute4  attribute5  attribute6  attribute7  attribute8  attribute9  \n",
       "101334           0           8      213700           0           0           0  \n",
       "101335           0           8      213700           0           0           0  "
      ]
     },
     "execution_count": 15,
     "metadata": {},
     "output_type": "execute_result"
    }
   ],
   "source": [
    "# Find the duplicated rows\n",
    "df_temp = df[df.duplicated()]\n",
    "df[(df['date']==df_temp['date'].iloc[0]) & (df['device']==df_temp['device'].iloc[0])]"
   ]
  },
  {
   "cell_type": "code",
   "execution_count": 16,
   "id": "3274e5ff",
   "metadata": {},
   "outputs": [],
   "source": [
    "# Drop the duplicates\n",
    "df = df.drop_duplicates()"
   ]
  },
  {
   "cell_type": "code",
   "execution_count": 17,
   "id": "de9da82b",
   "metadata": {},
   "outputs": [
    {
     "data": {
      "text/plain": [
       "0"
      ]
     },
     "execution_count": 17,
     "metadata": {},
     "output_type": "execute_result"
    }
   ],
   "source": [
    "df.duplicated().sum()"
   ]
  },
  {
   "cell_type": "markdown",
   "id": "4b9625c4",
   "metadata": {},
   "source": [
    "### Check for missing values"
   ]
  },
  {
   "cell_type": "code",
   "execution_count": 18,
   "id": "4d3e1793",
   "metadata": {},
   "outputs": [
    {
     "data": {
      "text/plain": [
       "date          0\n",
       "device        0\n",
       "failure       0\n",
       "attribute1    0\n",
       "attribute2    0\n",
       "attribute3    0\n",
       "attribute4    0\n",
       "attribute5    0\n",
       "attribute6    0\n",
       "attribute7    0\n",
       "attribute8    0\n",
       "attribute9    0\n",
       "dtype: int64"
      ]
     },
     "execution_count": 18,
     "metadata": {},
     "output_type": "execute_result"
    }
   ],
   "source": [
    "df.isnull().sum(axis = 0)"
   ]
  },
  {
   "cell_type": "markdown",
   "id": "dedf6b04",
   "metadata": {},
   "source": [
    "It seems there is no missing value. We don't have to do anything. I also want to check how many zeros we have in the data."
   ]
  },
  {
   "cell_type": "code",
   "execution_count": 19,
   "id": "9dcc1b1f",
   "metadata": {},
   "outputs": [
    {
     "name": "stdout",
     "output_type": "stream",
     "text": [
      "Count of zeros in date :  0\n",
      "Count of zeros in device :  0\n",
      "Count of zeros in failure :  124387\n",
      "Count of zeros in attribute1 :  11\n",
      "Count of zeros in attribute2 :  118109\n",
      "Count of zeros in attribute3 :  115358\n",
      "Count of zeros in attribute4 :  115155\n",
      "Count of zeros in attribute5 :  0\n",
      "Count of zeros in attribute6 :  0\n",
      "Count of zeros in attribute7 :  123035\n",
      "Count of zeros in attribute8 :  123035\n",
      "Count of zeros in attribute9 :  97357\n"
     ]
    }
   ],
   "source": [
    "# Get the count of Zeros in each attribute column\n",
    "for column in df.columns:\n",
    "    count = (df[column] == 0).sum()\n",
    "    print('Count of zeros in '+ column+ ' : ', count)"
   ]
  },
  {
   "cell_type": "markdown",
   "id": "3ce4e7fd",
   "metadata": {},
   "source": [
    "We had 124,494 readings in total. Attributes 2,3,4,7,8 have zores more than ~115000. More that %92 of the mentioned featues are zero. It might be possible since these are the sensor data. But, attribute7 and attribute8 has the same amount of zeros. Need to investigate, they might be duplicated columns."
   ]
  },
  {
   "cell_type": "markdown",
   "id": "e58dcb83",
   "metadata": {},
   "source": [
    "### Check for duplicated columns"
   ]
  },
  {
   "cell_type": "code",
   "execution_count": 20,
   "id": "0a31ab9f",
   "metadata": {},
   "outputs": [
    {
     "data": {
      "text/plain": [
       "date          False\n",
       "device        False\n",
       "failure       False\n",
       "attribute1    False\n",
       "attribute2    False\n",
       "attribute3    False\n",
       "attribute4    False\n",
       "attribute5    False\n",
       "attribute6    False\n",
       "attribute7    False\n",
       "attribute8     True\n",
       "attribute9    False\n",
       "dtype: bool"
      ]
     },
     "execution_count": 20,
     "metadata": {},
     "output_type": "execute_result"
    }
   ],
   "source": [
    "# Check duplicated columns\n",
    "df.T.duplicated()"
   ]
  },
  {
   "cell_type": "markdown",
   "id": "e7a5275a",
   "metadata": {},
   "source": [
    "There is one duplicateed column."
   ]
  },
  {
   "cell_type": "code",
   "execution_count": 21,
   "id": "7c7c546d",
   "metadata": {},
   "outputs": [
    {
     "data": {
      "text/plain": [
       "True"
      ]
     },
     "execution_count": 21,
     "metadata": {},
     "output_type": "execute_result"
    }
   ],
   "source": [
    "(df['attribute7'] == df['attribute8']).all()"
   ]
  },
  {
   "cell_type": "markdown",
   "id": "4bbefeb6",
   "metadata": {},
   "source": [
    "'attribute7' and 'attribute8' identical. We can drop 'attribute8'."
   ]
  },
  {
   "cell_type": "code",
   "execution_count": 22,
   "id": "f82c92d6",
   "metadata": {},
   "outputs": [],
   "source": [
    "df = df.drop('attribute8', axis=1)"
   ]
  },
  {
   "cell_type": "code",
   "execution_count": 23,
   "id": "8128afc9",
   "metadata": {},
   "outputs": [
    {
     "data": {
      "text/html": [
       "<div>\n",
       "<style scoped>\n",
       "    .dataframe tbody tr th:only-of-type {\n",
       "        vertical-align: middle;\n",
       "    }\n",
       "\n",
       "    .dataframe tbody tr th {\n",
       "        vertical-align: top;\n",
       "    }\n",
       "\n",
       "    .dataframe thead th {\n",
       "        text-align: right;\n",
       "    }\n",
       "</style>\n",
       "<table border=\"1\" class=\"dataframe\">\n",
       "  <thead>\n",
       "    <tr style=\"text-align: right;\">\n",
       "      <th></th>\n",
       "      <th>date</th>\n",
       "      <th>device</th>\n",
       "      <th>failure</th>\n",
       "      <th>attribute1</th>\n",
       "      <th>attribute2</th>\n",
       "      <th>attribute3</th>\n",
       "      <th>attribute4</th>\n",
       "      <th>attribute5</th>\n",
       "      <th>attribute6</th>\n",
       "      <th>attribute7</th>\n",
       "      <th>attribute9</th>\n",
       "    </tr>\n",
       "  </thead>\n",
       "  <tbody>\n",
       "    <tr>\n",
       "      <th>0</th>\n",
       "      <td>2015-01-01</td>\n",
       "      <td>S1F01085</td>\n",
       "      <td>0</td>\n",
       "      <td>215630672</td>\n",
       "      <td>56</td>\n",
       "      <td>0</td>\n",
       "      <td>52</td>\n",
       "      <td>6</td>\n",
       "      <td>407438</td>\n",
       "      <td>0</td>\n",
       "      <td>7</td>\n",
       "    </tr>\n",
       "    <tr>\n",
       "      <th>1</th>\n",
       "      <td>2015-01-01</td>\n",
       "      <td>S1F0166B</td>\n",
       "      <td>0</td>\n",
       "      <td>61370680</td>\n",
       "      <td>0</td>\n",
       "      <td>3</td>\n",
       "      <td>0</td>\n",
       "      <td>6</td>\n",
       "      <td>403174</td>\n",
       "      <td>0</td>\n",
       "      <td>0</td>\n",
       "    </tr>\n",
       "    <tr>\n",
       "      <th>2</th>\n",
       "      <td>2015-01-01</td>\n",
       "      <td>S1F01E6Y</td>\n",
       "      <td>0</td>\n",
       "      <td>173295968</td>\n",
       "      <td>0</td>\n",
       "      <td>0</td>\n",
       "      <td>0</td>\n",
       "      <td>12</td>\n",
       "      <td>237394</td>\n",
       "      <td>0</td>\n",
       "      <td>0</td>\n",
       "    </tr>\n",
       "    <tr>\n",
       "      <th>3</th>\n",
       "      <td>2015-01-01</td>\n",
       "      <td>S1F01JE0</td>\n",
       "      <td>0</td>\n",
       "      <td>79694024</td>\n",
       "      <td>0</td>\n",
       "      <td>0</td>\n",
       "      <td>0</td>\n",
       "      <td>6</td>\n",
       "      <td>410186</td>\n",
       "      <td>0</td>\n",
       "      <td>0</td>\n",
       "    </tr>\n",
       "    <tr>\n",
       "      <th>4</th>\n",
       "      <td>2015-01-01</td>\n",
       "      <td>S1F01R2B</td>\n",
       "      <td>0</td>\n",
       "      <td>135970480</td>\n",
       "      <td>0</td>\n",
       "      <td>0</td>\n",
       "      <td>0</td>\n",
       "      <td>15</td>\n",
       "      <td>313173</td>\n",
       "      <td>0</td>\n",
       "      <td>3</td>\n",
       "    </tr>\n",
       "  </tbody>\n",
       "</table>\n",
       "</div>"
      ],
      "text/plain": [
       "        date    device  failure  attribute1  attribute2  attribute3  \\\n",
       "0 2015-01-01  S1F01085        0   215630672          56           0   \n",
       "1 2015-01-01  S1F0166B        0    61370680           0           3   \n",
       "2 2015-01-01  S1F01E6Y        0   173295968           0           0   \n",
       "3 2015-01-01  S1F01JE0        0    79694024           0           0   \n",
       "4 2015-01-01  S1F01R2B        0   135970480           0           0   \n",
       "\n",
       "   attribute4  attribute5  attribute6  attribute7  attribute9  \n",
       "0          52           6      407438           0           7  \n",
       "1           0           6      403174           0           0  \n",
       "2           0          12      237394           0           0  \n",
       "3           0           6      410186           0           0  \n",
       "4           0          15      313173           0           3  "
      ]
     },
     "execution_count": 23,
     "metadata": {},
     "output_type": "execute_result"
    }
   ],
   "source": [
    "df.head()"
   ]
  },
  {
   "cell_type": "markdown",
   "id": "1ecb79c9",
   "metadata": {},
   "source": [
    "### Failure stats"
   ]
  },
  {
   "cell_type": "markdown",
   "id": "afedabbf",
   "metadata": {},
   "source": [
    "There are 124388 no failures and 106 failures. 0.085% failure rate. This data set is very unbalanced. Before applying any machine learning algoritm, we need to come with an idea to mitigate the impact of a small number of observed failures."
   ]
  },
  {
   "cell_type": "code",
   "execution_count": 24,
   "id": "4cbdfcb3",
   "metadata": {},
   "outputs": [
    {
     "data": {
      "text/plain": [
       "failure\n",
       "0    124387\n",
       "1       106\n",
       "Name: device, dtype: int64"
      ]
     },
     "execution_count": 24,
     "metadata": {},
     "output_type": "execute_result"
    }
   ],
   "source": [
    "df.groupby(['failure'])['device'].agg('count')"
   ]
  },
  {
   "cell_type": "code",
   "execution_count": 25,
   "id": "514e4678",
   "metadata": {},
   "outputs": [
    {
     "data": {
      "image/png": "[encoded data removed]",
      "text/plain": [
       "<Figure size 432x288 with 1 Axes>"
      ]
     },
     "metadata": {},
     "output_type": "display_data"
    }
   ],
   "source": [
    "y = df['failure'].value_counts()\n",
    "mylabels = [\"0: No Failure\", \"1: Failure\"]\n",
    "\n",
    "plt.pie(y, labels = mylabels)\n",
    "plt.show() "
   ]
  },
  {
   "cell_type": "code",
   "execution_count": 26,
   "id": "25d2a1fa",
   "metadata": {},
   "outputs": [
    {
     "data": {
      "text/html": [
       "<div>\n",
       "<style scoped>\n",
       "    .dataframe tbody tr th:only-of-type {\n",
       "        vertical-align: middle;\n",
       "    }\n",
       "\n",
       "    .dataframe tbody tr th {\n",
       "        vertical-align: top;\n",
       "    }\n",
       "\n",
       "    .dataframe thead th {\n",
       "        text-align: right;\n",
       "    }\n",
       "</style>\n",
       "<table border=\"1\" class=\"dataframe\">\n",
       "  <thead>\n",
       "    <tr style=\"text-align: right;\">\n",
       "      <th></th>\n",
       "      <th>device</th>\n",
       "      <th>failure</th>\n",
       "    </tr>\n",
       "  </thead>\n",
       "  <tbody>\n",
       "    <tr>\n",
       "      <th>0</th>\n",
       "      <td>Z1F0LSNZ</td>\n",
       "      <td>1</td>\n",
       "    </tr>\n",
       "    <tr>\n",
       "      <th>1</th>\n",
       "      <td>W1F1230J</td>\n",
       "      <td>1</td>\n",
       "    </tr>\n",
       "    <tr>\n",
       "      <th>2</th>\n",
       "      <td>Z1F0P5D9</td>\n",
       "      <td>1</td>\n",
       "    </tr>\n",
       "    <tr>\n",
       "      <th>3</th>\n",
       "      <td>S1F0L0DW</td>\n",
       "      <td>1</td>\n",
       "    </tr>\n",
       "    <tr>\n",
       "      <th>4</th>\n",
       "      <td>W1F1DQN8</td>\n",
       "      <td>1</td>\n",
       "    </tr>\n",
       "  </tbody>\n",
       "</table>\n",
       "</div>"
      ],
      "text/plain": [
       "     device  failure\n",
       "0  Z1F0LSNZ        1\n",
       "1  W1F1230J        1\n",
       "2  Z1F0P5D9        1\n",
       "3  S1F0L0DW        1\n",
       "4  W1F1DQN8        1"
      ]
     },
     "execution_count": 26,
     "metadata": {},
     "output_type": "execute_result"
    }
   ],
   "source": [
    "# For each device, count the failure and no failure cases\n",
    "df_temp = df.groupby('device')['failure'].agg('sum').sort_values(ascending=False).reset_index()\n",
    "df_temp.head()"
   ]
  },
  {
   "cell_type": "code",
   "execution_count": 27,
   "id": "8e47ed03",
   "metadata": {},
   "outputs": [
    {
     "data": {
      "text/plain": [
       "0"
      ]
     },
     "execution_count": 27,
     "metadata": {},
     "output_type": "execute_result"
    }
   ],
   "source": [
    "# Is there any device that has more than 1 failure?\n",
    "df_temp[df_temp['failure'] > 1].shape[0]"
   ]
  },
  {
   "cell_type": "markdown",
   "id": "5dc3c013",
   "metadata": {},
   "source": [
    "There are total 106 failure cases and all the failures are for unique devices. Want to check if the failure is in different dates?"
   ]
  },
  {
   "cell_type": "code",
   "execution_count": 28,
   "id": "18273969",
   "metadata": {},
   "outputs": [
    {
     "data": {
      "text/html": [
       "<div>\n",
       "<style scoped>\n",
       "    .dataframe tbody tr th:only-of-type {\n",
       "        vertical-align: middle;\n",
       "    }\n",
       "\n",
       "    .dataframe tbody tr th {\n",
       "        vertical-align: top;\n",
       "    }\n",
       "\n",
       "    .dataframe thead th {\n",
       "        text-align: right;\n",
       "    }\n",
       "</style>\n",
       "<table border=\"1\" class=\"dataframe\">\n",
       "  <thead>\n",
       "    <tr style=\"text-align: right;\">\n",
       "      <th></th>\n",
       "      <th>date</th>\n",
       "      <th>unique</th>\n",
       "      <th>count</th>\n",
       "    </tr>\n",
       "  </thead>\n",
       "  <tbody>\n",
       "    <tr>\n",
       "      <th>7</th>\n",
       "      <td>2015-01-19</td>\n",
       "      <td>[S1F023H2, S1F0QY11, S1F0S2WJ, W1F0Z1W9, W1F15...</td>\n",
       "      <td>8</td>\n",
       "    </tr>\n",
       "    <tr>\n",
       "      <th>16</th>\n",
       "      <td>2015-02-04</td>\n",
       "      <td>[W1F0TA59, Z1F0LVGY, Z1F0MCCA]</td>\n",
       "      <td>3</td>\n",
       "    </tr>\n",
       "    <tr>\n",
       "      <th>43</th>\n",
       "      <td>2015-05-08</td>\n",
       "      <td>[S1F0RR35, Z1F1653X, Z1F1AG5N]</td>\n",
       "      <td>3</td>\n",
       "    </tr>\n",
       "    <tr>\n",
       "      <th>15</th>\n",
       "      <td>2015-02-02</td>\n",
       "      <td>[W1F0SGHR, W1F0VDH2]</td>\n",
       "      <td>2</td>\n",
       "    </tr>\n",
       "    <tr>\n",
       "      <th>46</th>\n",
       "      <td>2015-05-13</td>\n",
       "      <td>[S1F0GKL6, Z1F0K451]</td>\n",
       "      <td>2</td>\n",
       "    </tr>\n",
       "    <tr>\n",
       "      <th>65</th>\n",
       "      <td>2015-07-20</td>\n",
       "      <td>[S1F0LD15, W1F1BFP5]</td>\n",
       "      <td>2</td>\n",
       "    </tr>\n",
       "    <tr>\n",
       "      <th>64</th>\n",
       "      <td>2015-07-18</td>\n",
       "      <td>[S1F09DZQ, W1F11ZG9]</td>\n",
       "      <td>2</td>\n",
       "    </tr>\n",
       "    <tr>\n",
       "      <th>61</th>\n",
       "      <td>2015-07-12</td>\n",
       "      <td>[S1F0GPFZ, S1F0J5JH]</td>\n",
       "      <td>2</td>\n",
       "    </tr>\n",
       "    <tr>\n",
       "      <th>59</th>\n",
       "      <td>2015-07-09</td>\n",
       "      <td>[S1F0S65X, W1F1BS0H]</td>\n",
       "      <td>2</td>\n",
       "    </tr>\n",
       "    <tr>\n",
       "      <th>51</th>\n",
       "      <td>2015-05-28</td>\n",
       "      <td>[S1F0GSD9, S1F0QF3R]</td>\n",
       "      <td>2</td>\n",
       "    </tr>\n",
       "    <tr>\n",
       "      <th>50</th>\n",
       "      <td>2015-05-21</td>\n",
       "      <td>[S1F0L0DW, W1F0WBTM]</td>\n",
       "      <td>2</td>\n",
       "    </tr>\n",
       "    <tr>\n",
       "      <th>49</th>\n",
       "      <td>2015-05-20</td>\n",
       "      <td>[S1F0PJJW, W1F0X5GW]</td>\n",
       "      <td>2</td>\n",
       "    </tr>\n",
       "    <tr>\n",
       "      <th>44</th>\n",
       "      <td>2015-05-09</td>\n",
       "      <td>[W1F0KCP2, W1F0M35B]</td>\n",
       "      <td>2</td>\n",
       "    </tr>\n",
       "    <tr>\n",
       "      <th>14</th>\n",
       "      <td>2015-01-29</td>\n",
       "      <td>[S1F10E6M, S1F11MB0]</td>\n",
       "      <td>2</td>\n",
       "    </tr>\n",
       "    <tr>\n",
       "      <th>10</th>\n",
       "      <td>2015-01-23</td>\n",
       "      <td>[W1F0P114, W1F0X4FC]</td>\n",
       "      <td>2</td>\n",
       "    </tr>\n",
       "    <tr>\n",
       "      <th>42</th>\n",
       "      <td>2015-05-07</td>\n",
       "      <td>[S1F0F4EB, W1F1C9WG]</td>\n",
       "      <td>2</td>\n",
       "    </tr>\n",
       "    <tr>\n",
       "      <th>41</th>\n",
       "      <td>2015-05-05</td>\n",
       "      <td>[S1F13589, S1F136J0]</td>\n",
       "      <td>2</td>\n",
       "    </tr>\n",
       "    <tr>\n",
       "      <th>29</th>\n",
       "      <td>2015-03-24</td>\n",
       "      <td>[W1F0Z4EA, Z1F0QH0C]</td>\n",
       "      <td>2</td>\n",
       "    </tr>\n",
       "    <tr>\n",
       "      <th>28</th>\n",
       "      <td>2015-03-19</td>\n",
       "      <td>[W1F0Q8FH, Z1F0FSBY]</td>\n",
       "      <td>2</td>\n",
       "    </tr>\n",
       "    <tr>\n",
       "      <th>27</th>\n",
       "      <td>2015-03-17</td>\n",
       "      <td>[S1F0GJW3, S1F0LD2C]</td>\n",
       "      <td>2</td>\n",
       "    </tr>\n",
       "    <tr>\n",
       "      <th>18</th>\n",
       "      <td>2015-02-09</td>\n",
       "      <td>[W1F0NZZZ, W1F0T074]</td>\n",
       "      <td>2</td>\n",
       "    </tr>\n",
       "    <tr>\n",
       "      <th>70</th>\n",
       "      <td>2015-08-03</td>\n",
       "      <td>[S1F03YZM, S1F0GSHB]</td>\n",
       "      <td>2</td>\n",
       "    </tr>\n",
       "  </tbody>\n",
       "</table>\n",
       "</div>"
      ],
      "text/plain": [
       "         date                                             unique  count\n",
       "7  2015-01-19  [S1F023H2, S1F0QY11, S1F0S2WJ, W1F0Z1W9, W1F15...      8\n",
       "16 2015-02-04                     [W1F0TA59, Z1F0LVGY, Z1F0MCCA]      3\n",
       "43 2015-05-08                     [S1F0RR35, Z1F1653X, Z1F1AG5N]      3\n",
       "15 2015-02-02                               [W1F0SGHR, W1F0VDH2]      2\n",
       "46 2015-05-13                               [S1F0GKL6, Z1F0K451]      2\n",
       "65 2015-07-20                               [S1F0LD15, W1F1BFP5]      2\n",
       "64 2015-07-18                               [S1F09DZQ, W1F11ZG9]      2\n",
       "61 2015-07-12                               [S1F0GPFZ, S1F0J5JH]      2\n",
       "59 2015-07-09                               [S1F0S65X, W1F1BS0H]      2\n",
       "51 2015-05-28                               [S1F0GSD9, S1F0QF3R]      2\n",
       "50 2015-05-21                               [S1F0L0DW, W1F0WBTM]      2\n",
       "49 2015-05-20                               [S1F0PJJW, W1F0X5GW]      2\n",
       "44 2015-05-09                               [W1F0KCP2, W1F0M35B]      2\n",
       "14 2015-01-29                               [S1F10E6M, S1F11MB0]      2\n",
       "10 2015-01-23                               [W1F0P114, W1F0X4FC]      2\n",
       "42 2015-05-07                               [S1F0F4EB, W1F1C9WG]      2\n",
       "41 2015-05-05                               [S1F13589, S1F136J0]      2\n",
       "29 2015-03-24                               [W1F0Z4EA, Z1F0QH0C]      2\n",
       "28 2015-03-19                               [W1F0Q8FH, Z1F0FSBY]      2\n",
       "27 2015-03-17                               [S1F0GJW3, S1F0LD2C]      2\n",
       "18 2015-02-09                               [W1F0NZZZ, W1F0T074]      2\n",
       "70 2015-08-03                               [S1F03YZM, S1F0GSHB]      2"
      ]
     },
     "execution_count": 28,
     "metadata": {},
     "output_type": "execute_result"
    }
   ],
   "source": [
    "df_failure = df[df['failure'] == 1]\n",
    "df_failure_count = df_failure.groupby('date')['device'].agg(['unique', 'count']).reset_index()\n",
    "df_failure_count[df_failure_count['count']>1].sort_values(by=\"count\", ascending=False)"
   ]
  },
  {
   "cell_type": "markdown",
   "id": "0a444c94",
   "metadata": {},
   "source": [
    "There is a day 8 devices are failed. There are some days 2 devices are failed. We can use this information to pair the devices that fail together. "
   ]
  },
  {
   "cell_type": "markdown",
   "id": "a167676d",
   "metadata": {},
   "source": [
    "### Failure per month"
   ]
  },
  {
   "cell_type": "code",
   "execution_count": 29,
   "id": "b96ce956",
   "metadata": {},
   "outputs": [],
   "source": [
    "# Create a column for month and year\n",
    "df['Month_Year'] = df[\"date\"].apply(lambda x: x.strftime(\"%B %Y\"))"
   ]
  },
  {
   "cell_type": "markdown",
   "id": "617ed462",
   "metadata": {},
   "source": [
    "We will check the number of data per month and failur per month"
   ]
  },
  {
   "cell_type": "code",
   "execution_count": 30,
   "id": "e7b9677d",
   "metadata": {},
   "outputs": [
    {
     "data": {
      "text/html": [
       "<div>\n",
       "<style scoped>\n",
       "    .dataframe tbody tr th:only-of-type {\n",
       "        vertical-align: middle;\n",
       "    }\n",
       "\n",
       "    .dataframe tbody tr th {\n",
       "        vertical-align: top;\n",
       "    }\n",
       "\n",
       "    .dataframe thead th {\n",
       "        text-align: right;\n",
       "    }\n",
       "</style>\n",
       "<table border=\"1\" class=\"dataframe\">\n",
       "  <thead>\n",
       "    <tr style=\"text-align: right;\">\n",
       "      <th></th>\n",
       "      <th>Month_Year</th>\n",
       "      <th>date</th>\n",
       "      <th>failure</th>\n",
       "      <th>device</th>\n",
       "    </tr>\n",
       "  </thead>\n",
       "  <tbody>\n",
       "    <tr>\n",
       "      <th>0</th>\n",
       "      <td>January 2015</td>\n",
       "      <td>2015-01-31</td>\n",
       "      <td>24</td>\n",
       "      <td>25032</td>\n",
       "    </tr>\n",
       "    <tr>\n",
       "      <th>1</th>\n",
       "      <td>February 2015</td>\n",
       "      <td>2015-02-28</td>\n",
       "      <td>14</td>\n",
       "      <td>19500</td>\n",
       "    </tr>\n",
       "    <tr>\n",
       "      <th>2</th>\n",
       "      <td>March 2015</td>\n",
       "      <td>2015-03-31</td>\n",
       "      <td>9</td>\n",
       "      <td>19833</td>\n",
       "    </tr>\n",
       "    <tr>\n",
       "      <th>3</th>\n",
       "      <td>April 2015</td>\n",
       "      <td>2015-04-30</td>\n",
       "      <td>9</td>\n",
       "      <td>12012</td>\n",
       "    </tr>\n",
       "    <tr>\n",
       "      <th>4</th>\n",
       "      <td>May 2015</td>\n",
       "      <td>2015-05-31</td>\n",
       "      <td>21</td>\n",
       "      <td>11330</td>\n",
       "    </tr>\n",
       "    <tr>\n",
       "      <th>5</th>\n",
       "      <td>June 2015</td>\n",
       "      <td>2015-06-30</td>\n",
       "      <td>6</td>\n",
       "      <td>10469</td>\n",
       "    </tr>\n",
       "    <tr>\n",
       "      <th>6</th>\n",
       "      <td>July 2015</td>\n",
       "      <td>2015-07-31</td>\n",
       "      <td>16</td>\n",
       "      <td>10530</td>\n",
       "    </tr>\n",
       "    <tr>\n",
       "      <th>7</th>\n",
       "      <td>August 2015</td>\n",
       "      <td>2015-08-31</td>\n",
       "      <td>4</td>\n",
       "      <td>8346</td>\n",
       "    </tr>\n",
       "    <tr>\n",
       "      <th>8</th>\n",
       "      <td>September 2015</td>\n",
       "      <td>2015-09-30</td>\n",
       "      <td>0</td>\n",
       "      <td>4470</td>\n",
       "    </tr>\n",
       "    <tr>\n",
       "      <th>9</th>\n",
       "      <td>October 2015</td>\n",
       "      <td>2015-10-31</td>\n",
       "      <td>3</td>\n",
       "      <td>2940</td>\n",
       "    </tr>\n",
       "    <tr>\n",
       "      <th>10</th>\n",
       "      <td>November 2015</td>\n",
       "      <td>2015-11-02</td>\n",
       "      <td>0</td>\n",
       "      <td>31</td>\n",
       "    </tr>\n",
       "  </tbody>\n",
       "</table>\n",
       "</div>"
      ],
      "text/plain": [
       "        Month_Year       date  failure  device\n",
       "0     January 2015 2015-01-31       24   25032\n",
       "1    February 2015 2015-02-28       14   19500\n",
       "2       March 2015 2015-03-31        9   19833\n",
       "3       April 2015 2015-04-30        9   12012\n",
       "4         May 2015 2015-05-31       21   11330\n",
       "5        June 2015 2015-06-30        6   10469\n",
       "6        July 2015 2015-07-31       16   10530\n",
       "7      August 2015 2015-08-31        4    8346\n",
       "8   September 2015 2015-09-30        0    4470\n",
       "9     October 2015 2015-10-31        3    2940\n",
       "10   November 2015 2015-11-02        0      31"
      ]
     },
     "execution_count": 30,
     "metadata": {},
     "output_type": "execute_result"
    }
   ],
   "source": [
    "# Group the months\n",
    "df_month = df.groupby('Month_Year').agg({'date':'max', \n",
    "                                         'failure':'sum', \n",
    "                                         'device':'count'}).reset_index()\n",
    "df_month = df_month.sort_values(by='date', ascending=True).reset_index(drop=True)\n",
    "df_month"
   ]
  },
  {
   "cell_type": "code",
   "execution_count": 31,
   "id": "2484fbda",
   "metadata": {},
   "outputs": [
    {
     "data": {
      "text/html": [
       "<div>\n",
       "<style scoped>\n",
       "    .dataframe tbody tr th:only-of-type {\n",
       "        vertical-align: middle;\n",
       "    }\n",
       "\n",
       "    .dataframe tbody tr th {\n",
       "        vertical-align: top;\n",
       "    }\n",
       "\n",
       "    .dataframe thead th {\n",
       "        text-align: right;\n",
       "    }\n",
       "</style>\n",
       "<table border=\"1\" class=\"dataframe\">\n",
       "  <thead>\n",
       "    <tr style=\"text-align: right;\">\n",
       "      <th></th>\n",
       "      <th>Month_Year</th>\n",
       "      <th>date</th>\n",
       "      <th>failure_count</th>\n",
       "      <th>reading_count</th>\n",
       "    </tr>\n",
       "  </thead>\n",
       "  <tbody>\n",
       "    <tr>\n",
       "      <th>0</th>\n",
       "      <td>January 2015</td>\n",
       "      <td>2015-01-31</td>\n",
       "      <td>24</td>\n",
       "      <td>25032</td>\n",
       "    </tr>\n",
       "    <tr>\n",
       "      <th>1</th>\n",
       "      <td>February 2015</td>\n",
       "      <td>2015-02-28</td>\n",
       "      <td>14</td>\n",
       "      <td>19500</td>\n",
       "    </tr>\n",
       "    <tr>\n",
       "      <th>2</th>\n",
       "      <td>March 2015</td>\n",
       "      <td>2015-03-31</td>\n",
       "      <td>9</td>\n",
       "      <td>19833</td>\n",
       "    </tr>\n",
       "    <tr>\n",
       "      <th>3</th>\n",
       "      <td>April 2015</td>\n",
       "      <td>2015-04-30</td>\n",
       "      <td>9</td>\n",
       "      <td>12012</td>\n",
       "    </tr>\n",
       "    <tr>\n",
       "      <th>4</th>\n",
       "      <td>May 2015</td>\n",
       "      <td>2015-05-31</td>\n",
       "      <td>21</td>\n",
       "      <td>11330</td>\n",
       "    </tr>\n",
       "    <tr>\n",
       "      <th>5</th>\n",
       "      <td>June 2015</td>\n",
       "      <td>2015-06-30</td>\n",
       "      <td>6</td>\n",
       "      <td>10469</td>\n",
       "    </tr>\n",
       "    <tr>\n",
       "      <th>6</th>\n",
       "      <td>July 2015</td>\n",
       "      <td>2015-07-31</td>\n",
       "      <td>16</td>\n",
       "      <td>10530</td>\n",
       "    </tr>\n",
       "    <tr>\n",
       "      <th>7</th>\n",
       "      <td>August 2015</td>\n",
       "      <td>2015-08-31</td>\n",
       "      <td>4</td>\n",
       "      <td>8346</td>\n",
       "    </tr>\n",
       "    <tr>\n",
       "      <th>8</th>\n",
       "      <td>September 2015</td>\n",
       "      <td>2015-09-30</td>\n",
       "      <td>0</td>\n",
       "      <td>4470</td>\n",
       "    </tr>\n",
       "    <tr>\n",
       "      <th>9</th>\n",
       "      <td>October 2015</td>\n",
       "      <td>2015-10-31</td>\n",
       "      <td>3</td>\n",
       "      <td>2940</td>\n",
       "    </tr>\n",
       "    <tr>\n",
       "      <th>10</th>\n",
       "      <td>November 2015</td>\n",
       "      <td>2015-11-02</td>\n",
       "      <td>0</td>\n",
       "      <td>31</td>\n",
       "    </tr>\n",
       "  </tbody>\n",
       "</table>\n",
       "</div>"
      ],
      "text/plain": [
       "        Month_Year       date  failure_count  reading_count\n",
       "0     January 2015 2015-01-31             24          25032\n",
       "1    February 2015 2015-02-28             14          19500\n",
       "2       March 2015 2015-03-31              9          19833\n",
       "3       April 2015 2015-04-30              9          12012\n",
       "4         May 2015 2015-05-31             21          11330\n",
       "5        June 2015 2015-06-30              6          10469\n",
       "6        July 2015 2015-07-31             16          10530\n",
       "7      August 2015 2015-08-31              4           8346\n",
       "8   September 2015 2015-09-30              0           4470\n",
       "9     October 2015 2015-10-31              3           2940\n",
       "10   November 2015 2015-11-02              0             31"
      ]
     },
     "execution_count": 31,
     "metadata": {},
     "output_type": "execute_result"
    }
   ],
   "source": [
    "df_month.columns = ['Month_Year', 'date', 'failure_count', 'reading_count']\n",
    "df_month"
   ]
  },
  {
   "cell_type": "code",
   "execution_count": 32,
   "id": "06cb5cb2",
   "metadata": {},
   "outputs": [
    {
     "data": {
      "text/html": [
       "<div>\n",
       "<style scoped>\n",
       "    .dataframe tbody tr th:only-of-type {\n",
       "        vertical-align: middle;\n",
       "    }\n",
       "\n",
       "    .dataframe tbody tr th {\n",
       "        vertical-align: top;\n",
       "    }\n",
       "\n",
       "    .dataframe thead th {\n",
       "        text-align: right;\n",
       "    }\n",
       "</style>\n",
       "<table border=\"1\" class=\"dataframe\">\n",
       "  <thead>\n",
       "    <tr style=\"text-align: right;\">\n",
       "      <th></th>\n",
       "      <th>Month_Year</th>\n",
       "      <th>date</th>\n",
       "      <th>failure_count</th>\n",
       "      <th>reading_count</th>\n",
       "      <th>fail_rate</th>\n",
       "    </tr>\n",
       "  </thead>\n",
       "  <tbody>\n",
       "    <tr>\n",
       "      <th>0</th>\n",
       "      <td>January 2015</td>\n",
       "      <td>2015-01-31</td>\n",
       "      <td>24</td>\n",
       "      <td>25032</td>\n",
       "      <td>0.095877</td>\n",
       "    </tr>\n",
       "    <tr>\n",
       "      <th>1</th>\n",
       "      <td>February 2015</td>\n",
       "      <td>2015-02-28</td>\n",
       "      <td>14</td>\n",
       "      <td>19500</td>\n",
       "      <td>0.071795</td>\n",
       "    </tr>\n",
       "    <tr>\n",
       "      <th>2</th>\n",
       "      <td>March 2015</td>\n",
       "      <td>2015-03-31</td>\n",
       "      <td>9</td>\n",
       "      <td>19833</td>\n",
       "      <td>0.045379</td>\n",
       "    </tr>\n",
       "    <tr>\n",
       "      <th>3</th>\n",
       "      <td>April 2015</td>\n",
       "      <td>2015-04-30</td>\n",
       "      <td>9</td>\n",
       "      <td>12012</td>\n",
       "      <td>0.074925</td>\n",
       "    </tr>\n",
       "    <tr>\n",
       "      <th>4</th>\n",
       "      <td>May 2015</td>\n",
       "      <td>2015-05-31</td>\n",
       "      <td>21</td>\n",
       "      <td>11330</td>\n",
       "      <td>0.185349</td>\n",
       "    </tr>\n",
       "    <tr>\n",
       "      <th>5</th>\n",
       "      <td>June 2015</td>\n",
       "      <td>2015-06-30</td>\n",
       "      <td>6</td>\n",
       "      <td>10469</td>\n",
       "      <td>0.057312</td>\n",
       "    </tr>\n",
       "    <tr>\n",
       "      <th>6</th>\n",
       "      <td>July 2015</td>\n",
       "      <td>2015-07-31</td>\n",
       "      <td>16</td>\n",
       "      <td>10530</td>\n",
       "      <td>0.151947</td>\n",
       "    </tr>\n",
       "    <tr>\n",
       "      <th>7</th>\n",
       "      <td>August 2015</td>\n",
       "      <td>2015-08-31</td>\n",
       "      <td>4</td>\n",
       "      <td>8346</td>\n",
       "      <td>0.047927</td>\n",
       "    </tr>\n",
       "    <tr>\n",
       "      <th>8</th>\n",
       "      <td>September 2015</td>\n",
       "      <td>2015-09-30</td>\n",
       "      <td>0</td>\n",
       "      <td>4470</td>\n",
       "      <td>0.000000</td>\n",
       "    </tr>\n",
       "    <tr>\n",
       "      <th>9</th>\n",
       "      <td>October 2015</td>\n",
       "      <td>2015-10-31</td>\n",
       "      <td>3</td>\n",
       "      <td>2940</td>\n",
       "      <td>0.102041</td>\n",
       "    </tr>\n",
       "    <tr>\n",
       "      <th>10</th>\n",
       "      <td>November 2015</td>\n",
       "      <td>2015-11-02</td>\n",
       "      <td>0</td>\n",
       "      <td>31</td>\n",
       "      <td>0.000000</td>\n",
       "    </tr>\n",
       "  </tbody>\n",
       "</table>\n",
       "</div>"
      ],
      "text/plain": [
       "        Month_Year       date  failure_count  reading_count  fail_rate\n",
       "0     January 2015 2015-01-31             24          25032   0.095877\n",
       "1    February 2015 2015-02-28             14          19500   0.071795\n",
       "2       March 2015 2015-03-31              9          19833   0.045379\n",
       "3       April 2015 2015-04-30              9          12012   0.074925\n",
       "4         May 2015 2015-05-31             21          11330   0.185349\n",
       "5        June 2015 2015-06-30              6          10469   0.057312\n",
       "6        July 2015 2015-07-31             16          10530   0.151947\n",
       "7      August 2015 2015-08-31              4           8346   0.047927\n",
       "8   September 2015 2015-09-30              0           4470   0.000000\n",
       "9     October 2015 2015-10-31              3           2940   0.102041\n",
       "10   November 2015 2015-11-02              0             31   0.000000"
      ]
     },
     "execution_count": 32,
     "metadata": {},
     "output_type": "execute_result"
    }
   ],
   "source": [
    "df_month['fail_rate'] = (df_month['failure_count'] / df_month['reading_count'])*100\n",
    "df_month"
   ]
  },
  {
   "cell_type": "code",
   "execution_count": 33,
   "id": "63b3a81d",
   "metadata": {},
   "outputs": [
    {
     "data": {
      "image/png": "[encoded data removed]",
      "text/plain": [
       "<Figure size 1008x432 with 1 Axes>"
      ]
     },
     "metadata": {
      "needs_background": "light"
     },
     "output_type": "display_data"
    }
   ],
   "source": [
    "ax = df_month.plot.bar(x='Month_Year', y='fail_rate', figsize=(14, 6), rot=90)"
   ]
  },
  {
   "cell_type": "markdown",
   "id": "8cc5ba13",
   "metadata": {},
   "source": [
    "We can use this information as a feature for our classification model. I will add the feature to the data in the next section."
   ]
  },
  {
   "cell_type": "markdown",
   "id": "cd2a00c1",
   "metadata": {},
   "source": [
    "### Box and whisker plot for each feature"
   ]
  },
  {
   "cell_type": "code",
   "execution_count": 34,
   "id": "1d91298c",
   "metadata": {},
   "outputs": [
    {
     "name": "stdout",
     "output_type": "stream",
     "text": [
      "Box and whisker plot for each feature\n"
     ]
    },
    {
     "data": {
      "image/png": "[encoded data removed]",
      "text/plain": [
       "<Figure size 1080x1080 with 8 Axes>"
      ]
     },
     "metadata": {
      "needs_background": "light"
     },
     "output_type": "display_data"
    }
   ],
   "source": [
    "print(\"Box and whisker plot for each feature\")\n",
    "\n",
    "fig = plt.figure(figsize = (15, 15))\n",
    "plt.subplot(3,3,1)\n",
    "df.boxplot(column=['attribute1']) \n",
    "plt.subplot(3,3,2)\n",
    "df.boxplot(column=['attribute2'])\n",
    "plt.subplot(3,3,3)\n",
    "df.boxplot(column=['attribute3']) \n",
    "plt.subplot(3,3,4)\n",
    "df.boxplot(column=['attribute4'])\n",
    "plt.subplot(3,3,5)\n",
    "df.boxplot(column=['attribute5']) \n",
    "plt.subplot(3,3,6)\n",
    "df.boxplot(column=['attribute6'])\n",
    "plt.subplot(3,3,7)\n",
    "df.boxplot(column=['attribute7']) \n",
    "plt.subplot(3,3,8)\n",
    "df.boxplot(column=['attribute9']) \n",
    "plt.show()"
   ]
  },
  {
   "cell_type": "markdown",
   "id": "1a488fed",
   "metadata": {},
   "source": [
    "We have already know that most of the Attributes 2,3,4,7 have zores. All of the attributes other than 'Attribute1' is skewed. Skewness is asymmetry in a statistical distribution, in which the curve appears distorted or skewed either to the left or to the right. We need to handle this before we feed our data into the learning algoritm."
   ]
  },
  {
   "cell_type": "code",
   "execution_count": 35,
   "id": "79179cc5",
   "metadata": {},
   "outputs": [
    {
     "data": {
      "text/plain": [
       "failure       34.227056\n",
       "attribute1    -0.011127\n",
       "attribute2    23.857827\n",
       "attribute3    82.711947\n",
       "attribute4    41.502446\n",
       "attribute5     3.483663\n",
       "attribute6    -0.375295\n",
       "attribute7    73.476162\n",
       "attribute9    49.899079\n",
       "dtype: float64"
      ]
     },
     "execution_count": 35,
     "metadata": {},
     "output_type": "execute_result"
    }
   ],
   "source": [
    "df.skew()"
   ]
  },
  {
   "cell_type": "code",
   "execution_count": 36,
   "id": "cd2a4f77",
   "metadata": {},
   "outputs": [
    {
     "data": {
      "text/html": [
       "<div>\n",
       "<style scoped>\n",
       "    .dataframe tbody tr th:only-of-type {\n",
       "        vertical-align: middle;\n",
       "    }\n",
       "\n",
       "    .dataframe tbody tr th {\n",
       "        vertical-align: top;\n",
       "    }\n",
       "\n",
       "    .dataframe thead th {\n",
       "        text-align: right;\n",
       "    }\n",
       "</style>\n",
       "<table border=\"1\" class=\"dataframe\">\n",
       "  <thead>\n",
       "    <tr style=\"text-align: right;\">\n",
       "      <th></th>\n",
       "      <th>failure</th>\n",
       "      <th>attribute1</th>\n",
       "      <th>attribute2</th>\n",
       "      <th>attribute3</th>\n",
       "      <th>attribute4</th>\n",
       "      <th>attribute5</th>\n",
       "      <th>attribute6</th>\n",
       "      <th>attribute7</th>\n",
       "      <th>attribute9</th>\n",
       "    </tr>\n",
       "  </thead>\n",
       "  <tbody>\n",
       "    <tr>\n",
       "      <th>count</th>\n",
       "      <td>124493.000000</td>\n",
       "      <td>1.244930e+05</td>\n",
       "      <td>124493.000000</td>\n",
       "      <td>124493.000000</td>\n",
       "      <td>124493.000000</td>\n",
       "      <td>124493.000000</td>\n",
       "      <td>124493.000000</td>\n",
       "      <td>124493.000000</td>\n",
       "      <td>124493.000000</td>\n",
       "    </tr>\n",
       "    <tr>\n",
       "      <th>mean</th>\n",
       "      <td>0.000851</td>\n",
       "      <td>1.223875e+08</td>\n",
       "      <td>159.486043</td>\n",
       "      <td>9.940535</td>\n",
       "      <td>1.741134</td>\n",
       "      <td>14.222719</td>\n",
       "      <td>260173.031022</td>\n",
       "      <td>0.292531</td>\n",
       "      <td>12.451624</td>\n",
       "    </tr>\n",
       "    <tr>\n",
       "      <th>std</th>\n",
       "      <td>0.029167</td>\n",
       "      <td>7.045934e+07</td>\n",
       "      <td>2179.666438</td>\n",
       "      <td>185.748065</td>\n",
       "      <td>22.908598</td>\n",
       "      <td>15.943082</td>\n",
       "      <td>99151.389285</td>\n",
       "      <td>7.436954</td>\n",
       "      <td>191.426389</td>\n",
       "    </tr>\n",
       "    <tr>\n",
       "      <th>min</th>\n",
       "      <td>0.000000</td>\n",
       "      <td>0.000000e+00</td>\n",
       "      <td>0.000000</td>\n",
       "      <td>0.000000</td>\n",
       "      <td>0.000000</td>\n",
       "      <td>1.000000</td>\n",
       "      <td>8.000000</td>\n",
       "      <td>0.000000</td>\n",
       "      <td>0.000000</td>\n",
       "    </tr>\n",
       "    <tr>\n",
       "      <th>25%</th>\n",
       "      <td>0.000000</td>\n",
       "      <td>6.128346e+07</td>\n",
       "      <td>0.000000</td>\n",
       "      <td>0.000000</td>\n",
       "      <td>0.000000</td>\n",
       "      <td>8.000000</td>\n",
       "      <td>221452.000000</td>\n",
       "      <td>0.000000</td>\n",
       "      <td>0.000000</td>\n",
       "    </tr>\n",
       "    <tr>\n",
       "      <th>50%</th>\n",
       "      <td>0.000000</td>\n",
       "      <td>1.227971e+08</td>\n",
       "      <td>0.000000</td>\n",
       "      <td>0.000000</td>\n",
       "      <td>0.000000</td>\n",
       "      <td>10.000000</td>\n",
       "      <td>249800.000000</td>\n",
       "      <td>0.000000</td>\n",
       "      <td>0.000000</td>\n",
       "    </tr>\n",
       "    <tr>\n",
       "      <th>75%</th>\n",
       "      <td>0.000000</td>\n",
       "      <td>1.833091e+08</td>\n",
       "      <td>0.000000</td>\n",
       "      <td>0.000000</td>\n",
       "      <td>0.000000</td>\n",
       "      <td>12.000000</td>\n",
       "      <td>310266.000000</td>\n",
       "      <td>0.000000</td>\n",
       "      <td>0.000000</td>\n",
       "    </tr>\n",
       "    <tr>\n",
       "      <th>max</th>\n",
       "      <td>1.000000</td>\n",
       "      <td>2.441405e+08</td>\n",
       "      <td>64968.000000</td>\n",
       "      <td>24929.000000</td>\n",
       "      <td>1666.000000</td>\n",
       "      <td>98.000000</td>\n",
       "      <td>689161.000000</td>\n",
       "      <td>832.000000</td>\n",
       "      <td>18701.000000</td>\n",
       "    </tr>\n",
       "  </tbody>\n",
       "</table>\n",
       "</div>"
      ],
      "text/plain": [
       "             failure    attribute1     attribute2     attribute3  \\\n",
       "count  124493.000000  1.244930e+05  124493.000000  124493.000000   \n",
       "mean        0.000851  1.223875e+08     159.486043       9.940535   \n",
       "std         0.029167  7.045934e+07    2179.666438     185.748065   \n",
       "min         0.000000  0.000000e+00       0.000000       0.000000   \n",
       "25%         0.000000  6.128346e+07       0.000000       0.000000   \n",
       "50%         0.000000  1.227971e+08       0.000000       0.000000   \n",
       "75%         0.000000  1.833091e+08       0.000000       0.000000   \n",
       "max         1.000000  2.441405e+08   64968.000000   24929.000000   \n",
       "\n",
       "          attribute4     attribute5     attribute6     attribute7  \\\n",
       "count  124493.000000  124493.000000  124493.000000  124493.000000   \n",
       "mean        1.741134      14.222719  260173.031022       0.292531   \n",
       "std        22.908598      15.943082   99151.389285       7.436954   \n",
       "min         0.000000       1.000000       8.000000       0.000000   \n",
       "25%         0.000000       8.000000  221452.000000       0.000000   \n",
       "50%         0.000000      10.000000  249800.000000       0.000000   \n",
       "75%         0.000000      12.000000  310266.000000       0.000000   \n",
       "max      1666.000000      98.000000  689161.000000     832.000000   \n",
       "\n",
       "          attribute9  \n",
       "count  124493.000000  \n",
       "mean       12.451624  \n",
       "std       191.426389  \n",
       "min         0.000000  \n",
       "25%         0.000000  \n",
       "50%         0.000000  \n",
       "75%         0.000000  \n",
       "max     18701.000000  "
      ]
     },
     "execution_count": 36,
     "metadata": {},
     "output_type": "execute_result"
    }
   ],
   "source": [
    "# Generate descriptive statistics\n",
    "df.describe()"
   ]
  },
  {
   "cell_type": "markdown",
   "id": "21da7b4c",
   "metadata": {},
   "source": [
    "### Check the corrolation "
   ]
  },
  {
   "cell_type": "markdown",
   "id": "7a814923",
   "metadata": {},
   "source": [
    "Examine a simple correlation of the independent variable with the dependent variable."
   ]
  },
  {
   "cell_type": "code",
   "execution_count": 37,
   "id": "21cda2ee",
   "metadata": {},
   "outputs": [],
   "source": [
    "df_corr = df.corr(method='pearson')"
   ]
  },
  {
   "cell_type": "code",
   "execution_count": 38,
   "id": "072e827f",
   "metadata": {},
   "outputs": [
    {
     "data": {
      "text/html": [
       "<div>\n",
       "<style scoped>\n",
       "    .dataframe tbody tr th:only-of-type {\n",
       "        vertical-align: middle;\n",
       "    }\n",
       "\n",
       "    .dataframe tbody tr th {\n",
       "        vertical-align: top;\n",
       "    }\n",
       "\n",
       "    .dataframe thead th {\n",
       "        text-align: right;\n",
       "    }\n",
       "</style>\n",
       "<table border=\"1\" class=\"dataframe\">\n",
       "  <thead>\n",
       "    <tr style=\"text-align: right;\">\n",
       "      <th></th>\n",
       "      <th>failure</th>\n",
       "    </tr>\n",
       "  </thead>\n",
       "  <tbody>\n",
       "    <tr>\n",
       "      <th>failure</th>\n",
       "      <td>1.000000</td>\n",
       "    </tr>\n",
       "    <tr>\n",
       "      <th>attribute7</th>\n",
       "      <td>0.119055</td>\n",
       "    </tr>\n",
       "    <tr>\n",
       "      <th>attribute4</th>\n",
       "      <td>0.067398</td>\n",
       "    </tr>\n",
       "    <tr>\n",
       "      <th>attribute2</th>\n",
       "      <td>0.052902</td>\n",
       "    </tr>\n",
       "    <tr>\n",
       "      <th>attribute5</th>\n",
       "      <td>0.002270</td>\n",
       "    </tr>\n",
       "    <tr>\n",
       "      <th>attribute1</th>\n",
       "      <td>0.001984</td>\n",
       "    </tr>\n",
       "    <tr>\n",
       "      <th>attribute9</th>\n",
       "      <td>0.001622</td>\n",
       "    </tr>\n",
       "    <tr>\n",
       "      <th>attribute3</th>\n",
       "      <td>0.000948</td>\n",
       "    </tr>\n",
       "    <tr>\n",
       "      <th>attribute6</th>\n",
       "      <td>0.000550</td>\n",
       "    </tr>\n",
       "  </tbody>\n",
       "</table>\n",
       "</div>"
      ],
      "text/plain": [
       "             failure\n",
       "failure     1.000000\n",
       "attribute7  0.119055\n",
       "attribute4  0.067398\n",
       "attribute2  0.052902\n",
       "attribute5  0.002270\n",
       "attribute1  0.001984\n",
       "attribute9  0.001622\n",
       "attribute3  0.000948\n",
       "attribute6  0.000550"
      ]
     },
     "execution_count": 38,
     "metadata": {},
     "output_type": "execute_result"
    }
   ],
   "source": [
    "abs(df_corr[['failure']]).sort_values(by='failure', ascending=False)"
   ]
  },
  {
   "cell_type": "markdown",
   "id": "de3a149e",
   "metadata": {},
   "source": [
    "Correlation coefficients are used to measure the strength of the linear relationship between two variables. Here we checked the corration between dependent and independent variable. attribute7 and attribute8 has 0.11 corralation. The hisger is the better."
   ]
  },
  {
   "cell_type": "markdown",
   "id": "f3a35efc",
   "metadata": {},
   "source": [
    "## 2. Data transformations and feature engineering"
   ]
  },
  {
   "cell_type": "markdown",
   "id": "6811c6e8",
   "metadata": {},
   "source": [
    "We can transform our data for a machine learning model to more relaible results. We can add an additional feature that shows the staus before the failure accur.\n",
    "\n",
    "- Add min, max, and mean values for each feature of each device.\n",
    "- Add failure rate per month info that we calculated before.\n",
    "\n",
    "\n",
    "Also, the last reading or readings before the failure might give us some information. We migth consider extracting a features from that as well. "
   ]
  },
  {
   "cell_type": "markdown",
   "id": "4588734e",
   "metadata": {},
   "source": [
    "### Create min, max, and mean features for each column"
   ]
  },
  {
   "cell_type": "code",
   "execution_count": 39,
   "id": "d7f8ace2",
   "metadata": {},
   "outputs": [],
   "source": [
    "faeture_list = ['attribute1', 'attribute2', 'attribute3', 'attribute4',\n",
    "                'attribute5', 'attribute6', 'attribute7', 'attribute9']"
   ]
  },
  {
   "cell_type": "code",
   "execution_count": 40,
   "id": "cfdfb81a",
   "metadata": {},
   "outputs": [],
   "source": [
    "for feature in faeture_list:\n",
    "    \n",
    "    new_feature_min = feature + '_min'\n",
    "    new_feature_max = feature + '_max'\n",
    "    new_feature_mean = feature + '_mean'\n",
    "    \n",
    "    df[new_feature_min] = df.groupby('device')[feature].transform('min')\n",
    "    df[new_feature_max] = df.groupby('device')[feature].transform('max')\n",
    "    df[new_feature_mean] = df.groupby('device')[feature].transform('mean')"
   ]
  },
  {
   "cell_type": "code",
   "execution_count": 41,
   "id": "7d8f9288",
   "metadata": {},
   "outputs": [
    {
     "data": {
      "text/html": [
       "<div>\n",
       "<style scoped>\n",
       "    .dataframe tbody tr th:only-of-type {\n",
       "        vertical-align: middle;\n",
       "    }\n",
       "\n",
       "    .dataframe tbody tr th {\n",
       "        vertical-align: top;\n",
       "    }\n",
       "\n",
       "    .dataframe thead th {\n",
       "        text-align: right;\n",
       "    }\n",
       "</style>\n",
       "<table border=\"1\" class=\"dataframe\">\n",
       "  <thead>\n",
       "    <tr style=\"text-align: right;\">\n",
       "      <th></th>\n",
       "      <th>date</th>\n",
       "      <th>device</th>\n",
       "      <th>failure</th>\n",
       "      <th>attribute1</th>\n",
       "      <th>attribute2</th>\n",
       "      <th>attribute3</th>\n",
       "      <th>attribute4</th>\n",
       "      <th>attribute5</th>\n",
       "      <th>attribute6</th>\n",
       "      <th>attribute7</th>\n",
       "      <th>...</th>\n",
       "      <th>attribute5_mean</th>\n",
       "      <th>attribute6_min</th>\n",
       "      <th>attribute6_max</th>\n",
       "      <th>attribute6_mean</th>\n",
       "      <th>attribute7_min</th>\n",
       "      <th>attribute7_max</th>\n",
       "      <th>attribute7_mean</th>\n",
       "      <th>attribute9_min</th>\n",
       "      <th>attribute9_max</th>\n",
       "      <th>attribute9_mean</th>\n",
       "    </tr>\n",
       "  </thead>\n",
       "  <tbody>\n",
       "    <tr>\n",
       "      <th>0</th>\n",
       "      <td>2015-01-01</td>\n",
       "      <td>S1F01085</td>\n",
       "      <td>0</td>\n",
       "      <td>215630672</td>\n",
       "      <td>56</td>\n",
       "      <td>0</td>\n",
       "      <td>52</td>\n",
       "      <td>6</td>\n",
       "      <td>407438</td>\n",
       "      <td>0</td>\n",
       "      <td>...</td>\n",
       "      <td>6.000000</td>\n",
       "      <td>407438</td>\n",
       "      <td>409404</td>\n",
       "      <td>407878.500000</td>\n",
       "      <td>0</td>\n",
       "      <td>0</td>\n",
       "      <td>0.0</td>\n",
       "      <td>7</td>\n",
       "      <td>7</td>\n",
       "      <td>7.0</td>\n",
       "    </tr>\n",
       "    <tr>\n",
       "      <th>1</th>\n",
       "      <td>2015-01-01</td>\n",
       "      <td>S1F0166B</td>\n",
       "      <td>0</td>\n",
       "      <td>61370680</td>\n",
       "      <td>0</td>\n",
       "      <td>3</td>\n",
       "      <td>0</td>\n",
       "      <td>6</td>\n",
       "      <td>403174</td>\n",
       "      <td>0</td>\n",
       "      <td>...</td>\n",
       "      <td>6.000000</td>\n",
       "      <td>403174</td>\n",
       "      <td>404786</td>\n",
       "      <td>403549.166667</td>\n",
       "      <td>0</td>\n",
       "      <td>0</td>\n",
       "      <td>0.0</td>\n",
       "      <td>0</td>\n",
       "      <td>0</td>\n",
       "      <td>0.0</td>\n",
       "    </tr>\n",
       "    <tr>\n",
       "      <th>2</th>\n",
       "      <td>2015-01-01</td>\n",
       "      <td>S1F01E6Y</td>\n",
       "      <td>0</td>\n",
       "      <td>173295968</td>\n",
       "      <td>0</td>\n",
       "      <td>0</td>\n",
       "      <td>0</td>\n",
       "      <td>12</td>\n",
       "      <td>237394</td>\n",
       "      <td>0</td>\n",
       "      <td>...</td>\n",
       "      <td>12.000000</td>\n",
       "      <td>237394</td>\n",
       "      <td>259491</td>\n",
       "      <td>254926.604167</td>\n",
       "      <td>0</td>\n",
       "      <td>0</td>\n",
       "      <td>0.0</td>\n",
       "      <td>0</td>\n",
       "      <td>0</td>\n",
       "      <td>0.0</td>\n",
       "    </tr>\n",
       "    <tr>\n",
       "      <th>3</th>\n",
       "      <td>2015-01-01</td>\n",
       "      <td>S1F01JE0</td>\n",
       "      <td>0</td>\n",
       "      <td>79694024</td>\n",
       "      <td>0</td>\n",
       "      <td>0</td>\n",
       "      <td>0</td>\n",
       "      <td>6</td>\n",
       "      <td>410186</td>\n",
       "      <td>0</td>\n",
       "      <td>...</td>\n",
       "      <td>6.000000</td>\n",
       "      <td>410186</td>\n",
       "      <td>412151</td>\n",
       "      <td>410630.833333</td>\n",
       "      <td>0</td>\n",
       "      <td>0</td>\n",
       "      <td>0.0</td>\n",
       "      <td>0</td>\n",
       "      <td>0</td>\n",
       "      <td>0.0</td>\n",
       "    </tr>\n",
       "    <tr>\n",
       "      <th>4</th>\n",
       "      <td>2015-01-01</td>\n",
       "      <td>S1F01R2B</td>\n",
       "      <td>0</td>\n",
       "      <td>135970480</td>\n",
       "      <td>0</td>\n",
       "      <td>0</td>\n",
       "      <td>0</td>\n",
       "      <td>15</td>\n",
       "      <td>313173</td>\n",
       "      <td>0</td>\n",
       "      <td>...</td>\n",
       "      <td>17.349776</td>\n",
       "      <td>313173</td>\n",
       "      <td>344875</td>\n",
       "      <td>331206.524664</td>\n",
       "      <td>0</td>\n",
       "      <td>0</td>\n",
       "      <td>0.0</td>\n",
       "      <td>3</td>\n",
       "      <td>3</td>\n",
       "      <td>3.0</td>\n",
       "    </tr>\n",
       "  </tbody>\n",
       "</table>\n",
       "<p>5 rows × 36 columns</p>\n",
       "</div>"
      ],
      "text/plain": [
       "        date    device  failure  attribute1  attribute2  attribute3  \\\n",
       "0 2015-01-01  S1F01085        0   215630672          56           0   \n",
       "1 2015-01-01  S1F0166B        0    61370680           0           3   \n",
       "2 2015-01-01  S1F01E6Y        0   173295968           0           0   \n",
       "3 2015-01-01  S1F01JE0        0    79694024           0           0   \n",
       "4 2015-01-01  S1F01R2B        0   135970480           0           0   \n",
       "\n",
       "   attribute4  attribute5  attribute6  attribute7  ...  attribute5_mean  \\\n",
       "0          52           6      407438           0  ...         6.000000   \n",
       "1           0           6      403174           0  ...         6.000000   \n",
       "2           0          12      237394           0  ...        12.000000   \n",
       "3           0           6      410186           0  ...         6.000000   \n",
       "4           0          15      313173           0  ...        17.349776   \n",
       "\n",
       "  attribute6_min  attribute6_max  attribute6_mean  attribute7_min  \\\n",
       "0         407438          409404    407878.500000               0   \n",
       "1         403174          404786    403549.166667               0   \n",
       "2         237394          259491    254926.604167               0   \n",
       "3         410186          412151    410630.833333               0   \n",
       "4         313173          344875    331206.524664               0   \n",
       "\n",
       "   attribute7_max  attribute7_mean  attribute9_min  attribute9_max  \\\n",
       "0               0              0.0               7               7   \n",
       "1               0              0.0               0               0   \n",
       "2               0              0.0               0               0   \n",
       "3               0              0.0               0               0   \n",
       "4               0              0.0               3               3   \n",
       "\n",
       "   attribute9_mean  \n",
       "0              7.0  \n",
       "1              0.0  \n",
       "2              0.0  \n",
       "3              0.0  \n",
       "4              3.0  \n",
       "\n",
       "[5 rows x 36 columns]"
      ]
     },
     "execution_count": 41,
     "metadata": {},
     "output_type": "execute_result"
    }
   ],
   "source": [
    "df.head()"
   ]
  },
  {
   "cell_type": "markdown",
   "id": "d76bc271",
   "metadata": {},
   "source": [
    "### Add failure rate per month info as a feature"
   ]
  },
  {
   "cell_type": "markdown",
   "id": "8374193f",
   "metadata": {},
   "source": [
    "We had fail rate per month information. We will merge this data to our main dataframe."
   ]
  },
  {
   "cell_type": "code",
   "execution_count": 42,
   "id": "dd1ee100",
   "metadata": {},
   "outputs": [
    {
     "data": {
      "text/html": [
       "<div>\n",
       "<style scoped>\n",
       "    .dataframe tbody tr th:only-of-type {\n",
       "        vertical-align: middle;\n",
       "    }\n",
       "\n",
       "    .dataframe tbody tr th {\n",
       "        vertical-align: top;\n",
       "    }\n",
       "\n",
       "    .dataframe thead th {\n",
       "        text-align: right;\n",
       "    }\n",
       "</style>\n",
       "<table border=\"1\" class=\"dataframe\">\n",
       "  <thead>\n",
       "    <tr style=\"text-align: right;\">\n",
       "      <th></th>\n",
       "      <th>Month_Year</th>\n",
       "      <th>date</th>\n",
       "      <th>failure_count</th>\n",
       "      <th>reading_count</th>\n",
       "      <th>fail_rate</th>\n",
       "    </tr>\n",
       "  </thead>\n",
       "  <tbody>\n",
       "    <tr>\n",
       "      <th>0</th>\n",
       "      <td>January 2015</td>\n",
       "      <td>2015-01-31</td>\n",
       "      <td>24</td>\n",
       "      <td>25032</td>\n",
       "      <td>0.095877</td>\n",
       "    </tr>\n",
       "    <tr>\n",
       "      <th>1</th>\n",
       "      <td>February 2015</td>\n",
       "      <td>2015-02-28</td>\n",
       "      <td>14</td>\n",
       "      <td>19500</td>\n",
       "      <td>0.071795</td>\n",
       "    </tr>\n",
       "    <tr>\n",
       "      <th>2</th>\n",
       "      <td>March 2015</td>\n",
       "      <td>2015-03-31</td>\n",
       "      <td>9</td>\n",
       "      <td>19833</td>\n",
       "      <td>0.045379</td>\n",
       "    </tr>\n",
       "    <tr>\n",
       "      <th>3</th>\n",
       "      <td>April 2015</td>\n",
       "      <td>2015-04-30</td>\n",
       "      <td>9</td>\n",
       "      <td>12012</td>\n",
       "      <td>0.074925</td>\n",
       "    </tr>\n",
       "    <tr>\n",
       "      <th>4</th>\n",
       "      <td>May 2015</td>\n",
       "      <td>2015-05-31</td>\n",
       "      <td>21</td>\n",
       "      <td>11330</td>\n",
       "      <td>0.185349</td>\n",
       "    </tr>\n",
       "  </tbody>\n",
       "</table>\n",
       "</div>"
      ],
      "text/plain": [
       "      Month_Year       date  failure_count  reading_count  fail_rate\n",
       "0   January 2015 2015-01-31             24          25032   0.095877\n",
       "1  February 2015 2015-02-28             14          19500   0.071795\n",
       "2     March 2015 2015-03-31              9          19833   0.045379\n",
       "3     April 2015 2015-04-30              9          12012   0.074925\n",
       "4       May 2015 2015-05-31             21          11330   0.185349"
      ]
     },
     "execution_count": 42,
     "metadata": {},
     "output_type": "execute_result"
    }
   ],
   "source": [
    "df_month.head()"
   ]
  },
  {
   "cell_type": "code",
   "execution_count": 43,
   "id": "70c02995",
   "metadata": {},
   "outputs": [
    {
     "data": {
      "text/plain": [
       "(11, 5)"
      ]
     },
     "execution_count": 43,
     "metadata": {},
     "output_type": "execute_result"
    }
   ],
   "source": [
    "df_month.shape"
   ]
  },
  {
   "cell_type": "code",
   "execution_count": 44,
   "id": "aa08cea3",
   "metadata": {},
   "outputs": [
    {
     "data": {
      "text/plain": [
       "Index(['date', 'device', 'failure', 'attribute1', 'attribute2', 'attribute3',\n",
       "       'attribute4', 'attribute5', 'attribute6', 'attribute7', 'attribute9',\n",
       "       'Month_Year', 'attribute1_min', 'attribute1_max', 'attribute1_mean',\n",
       "       'attribute2_min', 'attribute2_max', 'attribute2_mean', 'attribute3_min',\n",
       "       'attribute3_max', 'attribute3_mean', 'attribute4_min', 'attribute4_max',\n",
       "       'attribute4_mean', 'attribute5_min', 'attribute5_max',\n",
       "       'attribute5_mean', 'attribute6_min', 'attribute6_max',\n",
       "       'attribute6_mean', 'attribute7_min', 'attribute7_max',\n",
       "       'attribute7_mean', 'attribute9_min', 'attribute9_max',\n",
       "       'attribute9_mean'],\n",
       "      dtype='object')"
      ]
     },
     "execution_count": 44,
     "metadata": {},
     "output_type": "execute_result"
    }
   ],
   "source": [
    "df.columns"
   ]
  },
  {
   "cell_type": "code",
   "execution_count": 45,
   "id": "500f0d4f",
   "metadata": {},
   "outputs": [
    {
     "data": {
      "text/plain": [
       "(124493, 36)"
      ]
     },
     "execution_count": 45,
     "metadata": {},
     "output_type": "execute_result"
    }
   ],
   "source": [
    "df.shape"
   ]
  },
  {
   "cell_type": "code",
   "execution_count": 46,
   "id": "cad95bd8",
   "metadata": {},
   "outputs": [
    {
     "data": {
      "text/plain": [
       "Index(['date', 'device', 'failure', 'attribute1', 'attribute2', 'attribute3',\n",
       "       'attribute4', 'attribute5', 'attribute6', 'attribute7', 'attribute9',\n",
       "       'Month_Year', 'attribute1_min', 'attribute1_max', 'attribute1_mean',\n",
       "       'attribute2_min', 'attribute2_max', 'attribute2_mean', 'attribute3_min',\n",
       "       'attribute3_max', 'attribute3_mean', 'attribute4_min', 'attribute4_max',\n",
       "       'attribute4_mean', 'attribute5_min', 'attribute5_max',\n",
       "       'attribute5_mean', 'attribute6_min', 'attribute6_max',\n",
       "       'attribute6_mean', 'attribute7_min', 'attribute7_max',\n",
       "       'attribute7_mean', 'attribute9_min', 'attribute9_max',\n",
       "       'attribute9_mean', 'fail_rate'],\n",
       "      dtype='object')"
      ]
     },
     "execution_count": 46,
     "metadata": {},
     "output_type": "execute_result"
    }
   ],
   "source": [
    "# Merge data on Month_Year\n",
    "df_merged = df.merge(df_month[['Month_Year', 'fail_rate']], how='left', on='Month_Year')\n",
    "df_merged.columns"
   ]
  },
  {
   "cell_type": "markdown",
   "id": "f070f093",
   "metadata": {},
   "source": [
    "### The last readings before fail feature"
   ]
  },
  {
   "cell_type": "markdown",
   "id": "71fc13cb",
   "metadata": {},
   "source": [
    "The failure might give some indication even if it not broken before the failure. The last reading before the failure mogh give us some information. I have not created a feature from this information. This section is added as future work."
   ]
  },
  {
   "cell_type": "code",
   "execution_count": 47,
   "id": "526c1ef8",
   "metadata": {},
   "outputs": [
    {
     "data": {
      "text/html": [
       "<div>\n",
       "<style scoped>\n",
       "    .dataframe tbody tr th:only-of-type {\n",
       "        vertical-align: middle;\n",
       "    }\n",
       "\n",
       "    .dataframe tbody tr th {\n",
       "        vertical-align: top;\n",
       "    }\n",
       "\n",
       "    .dataframe thead th {\n",
       "        text-align: right;\n",
       "    }\n",
       "</style>\n",
       "<table border=\"1\" class=\"dataframe\">\n",
       "  <thead>\n",
       "    <tr style=\"text-align: right;\">\n",
       "      <th></th>\n",
       "      <th>date</th>\n",
       "      <th>device</th>\n",
       "      <th>failure</th>\n",
       "    </tr>\n",
       "  </thead>\n",
       "  <tbody>\n",
       "    <tr>\n",
       "      <th>235</th>\n",
       "      <td>2015-01-01</td>\n",
       "      <td>S1F0RRB1</td>\n",
       "      <td>0</td>\n",
       "    </tr>\n",
       "    <tr>\n",
       "      <th>1398</th>\n",
       "      <td>2015-01-02</td>\n",
       "      <td>S1F0RRB1</td>\n",
       "      <td>0</td>\n",
       "    </tr>\n",
       "    <tr>\n",
       "      <th>2561</th>\n",
       "      <td>2015-01-03</td>\n",
       "      <td>S1F0RRB1</td>\n",
       "      <td>0</td>\n",
       "    </tr>\n",
       "    <tr>\n",
       "      <th>3724</th>\n",
       "      <td>2015-01-04</td>\n",
       "      <td>S1F0RRB1</td>\n",
       "      <td>0</td>\n",
       "    </tr>\n",
       "    <tr>\n",
       "      <th>4885</th>\n",
       "      <td>2015-01-05</td>\n",
       "      <td>S1F0RRB1</td>\n",
       "      <td>1</td>\n",
       "    </tr>\n",
       "  </tbody>\n",
       "</table>\n",
       "</div>"
      ],
      "text/plain": [
       "           date    device  failure\n",
       "235  2015-01-01  S1F0RRB1        0\n",
       "1398 2015-01-02  S1F0RRB1        0\n",
       "2561 2015-01-03  S1F0RRB1        0\n",
       "3724 2015-01-04  S1F0RRB1        0\n",
       "4885 2015-01-05  S1F0RRB1        1"
      ]
     },
     "execution_count": 47,
     "metadata": {},
     "output_type": "execute_result"
    }
   ],
   "source": [
    "df_test = df[['date','device','failure']]\n",
    "df_test[df_test['device']=='S1F0RRB1']"
   ]
  },
  {
   "cell_type": "markdown",
   "id": "2300fbfa",
   "metadata": {},
   "source": [
    "### Prepare the data for the machine learning model"
   ]
  },
  {
   "cell_type": "markdown",
   "id": "51f3a58d",
   "metadata": {},
   "source": [
    "We neeed to drop the date and month_year column. Before deleteiong the date, I would like to create a seperate year, month and day column."
   ]
  },
  {
   "cell_type": "code",
   "execution_count": 48,
   "id": "1da467b4",
   "metadata": {},
   "outputs": [
    {
     "data": {
      "text/plain": [
       "Index(['date', 'device', 'failure', 'attribute1', 'attribute2', 'attribute3',\n",
       "       'attribute4', 'attribute5', 'attribute6', 'attribute7', 'attribute9',\n",
       "       'Month_Year', 'attribute1_min', 'attribute1_max', 'attribute1_mean',\n",
       "       'attribute2_min', 'attribute2_max', 'attribute2_mean', 'attribute3_min',\n",
       "       'attribute3_max', 'attribute3_mean', 'attribute4_min', 'attribute4_max',\n",
       "       'attribute4_mean', 'attribute5_min', 'attribute5_max',\n",
       "       'attribute5_mean', 'attribute6_min', 'attribute6_max',\n",
       "       'attribute6_mean', 'attribute7_min', 'attribute7_max',\n",
       "       'attribute7_mean', 'attribute9_min', 'attribute9_max',\n",
       "       'attribute9_mean'],\n",
       "      dtype='object')"
      ]
     },
     "execution_count": 48,
     "metadata": {},
     "output_type": "execute_result"
    }
   ],
   "source": [
    "df.columns"
   ]
  },
  {
   "cell_type": "code",
   "execution_count": 49,
   "id": "bf41a4aa",
   "metadata": {},
   "outputs": [],
   "source": [
    "df['month'] = df[\"date\"].apply(lambda x: x.month)\n",
    "df['day'] = df[\"date\"].apply(lambda x: x.day)"
   ]
  },
  {
   "cell_type": "code",
   "execution_count": 50,
   "id": "d4316af8",
   "metadata": {},
   "outputs": [],
   "source": [
    "# dropping date and Month_Year column\n",
    "df = df.drop(columns=['date', 'Month_Year'])"
   ]
  },
  {
   "cell_type": "markdown",
   "id": "7ee1b169",
   "metadata": {},
   "source": [
    "## 3. Preprocessing"
   ]
  },
  {
   "cell_type": "markdown",
   "id": "401fd024",
   "metadata": {},
   "source": [
    "Define the features and the true label column."
   ]
  },
  {
   "cell_type": "code",
   "execution_count": 51,
   "id": "f47c1676",
   "metadata": {},
   "outputs": [],
   "source": [
    "# Randomizes the data\n",
    "df_randomized = df.sample(frac=1, random_state=0).reset_index(drop=True)"
   ]
  },
  {
   "cell_type": "code",
   "execution_count": 52,
   "id": "47d410ad",
   "metadata": {},
   "outputs": [],
   "source": [
    "df_x = df_randomized.drop(columns=['failure','device'])\n",
    "df_y = df_randomized['failure']"
   ]
  },
  {
   "cell_type": "markdown",
   "id": "206ab8b3",
   "metadata": {},
   "source": [
    "### Handle the skewness"
   ]
  },
  {
   "cell_type": "code",
   "execution_count": 53,
   "id": "cf13b2cf",
   "metadata": {},
   "outputs": [
    {
     "data": {
      "text/plain": [
       "attribute1          -0.011127\n",
       "attribute2          23.857827\n",
       "attribute3          82.711947\n",
       "attribute4          41.502446\n",
       "attribute5           3.483663\n",
       "attribute6          -0.375295\n",
       "attribute7          73.476162\n",
       "attribute9          49.899079\n",
       "attribute1_min      11.523415\n",
       "attribute1_max     -11.683028\n",
       "attribute1_mean      0.212197\n",
       "attribute2_min      31.289404\n",
       "attribute2_max       9.421608\n",
       "attribute2_mean     25.137160\n",
       "attribute3_min      83.525572\n",
       "attribute3_max      57.689751\n",
       "attribute3_mean     83.461838\n",
       "attribute4_min      55.763039\n",
       "attribute4_max      21.861858\n",
       "attribute4_mean     26.526126\n",
       "attribute5_min       3.520342\n",
       "attribute5_max       3.452842\n",
       "attribute5_mean      3.487433\n",
       "attribute6_min      -0.085675\n",
       "attribute6_max      -0.510404\n",
       "attribute6_mean     -0.422641\n",
       "attribute7_min     119.076894\n",
       "attribute7_max      15.031272\n",
       "attribute7_mean     60.214573\n",
       "attribute9_min      49.897190\n",
       "attribute9_max      49.900213\n",
       "attribute9_mean     49.899611\n",
       "month                0.564734\n",
       "day                  0.109547\n",
       "dtype: float64"
      ]
     },
     "execution_count": 53,
     "metadata": {},
     "output_type": "execute_result"
    }
   ],
   "source": [
    "df_x.skew()"
   ]
  },
  {
   "cell_type": "code",
   "execution_count": 54,
   "id": "c5eada75",
   "metadata": {},
   "outputs": [
    {
     "name": "stderr",
     "output_type": "stream",
     "text": [
      "/Users/fatih/opt/anaconda3/lib/python3.8/site-packages/numpy/core/_methods.py:232: RuntimeWarning: overflow encountered in multiply\n",
      "  x = um.multiply(x, x, out=x)\n",
      "/Users/fatih/opt/anaconda3/lib/python3.8/site-packages/numpy/core/_methods.py:243: RuntimeWarning: overflow encountered in reduce\n",
      "  ret = umr_sum(x, axis, dtype, out, keepdims=keepdims, where=where)\n"
     ]
    }
   ],
   "source": [
    "# Apply a power transform featurewise to make data more Gaussian-like.\n",
    "pt = PowerTransformer(method='yeo-johnson')\n",
    "trans = pt.fit_transform(df_x)\n",
    "df_x_trans = pd.DataFrame(trans)"
   ]
  },
  {
   "cell_type": "code",
   "execution_count": 55,
   "id": "bbabbc6c",
   "metadata": {},
   "outputs": [
    {
     "data": {
      "text/html": [
       "<div>\n",
       "<style scoped>\n",
       "    .dataframe tbody tr th:only-of-type {\n",
       "        vertical-align: middle;\n",
       "    }\n",
       "\n",
       "    .dataframe tbody tr th {\n",
       "        vertical-align: top;\n",
       "    }\n",
       "\n",
       "    .dataframe thead th {\n",
       "        text-align: right;\n",
       "    }\n",
       "</style>\n",
       "<table border=\"1\" class=\"dataframe\">\n",
       "  <thead>\n",
       "    <tr style=\"text-align: right;\">\n",
       "      <th></th>\n",
       "      <th>attribute1</th>\n",
       "      <th>attribute2</th>\n",
       "      <th>attribute3</th>\n",
       "      <th>attribute4</th>\n",
       "      <th>attribute5</th>\n",
       "      <th>attribute6</th>\n",
       "      <th>attribute7</th>\n",
       "      <th>attribute9</th>\n",
       "      <th>attribute1_min</th>\n",
       "      <th>attribute1_max</th>\n",
       "      <th>...</th>\n",
       "      <th>attribute6_max</th>\n",
       "      <th>attribute6_mean</th>\n",
       "      <th>attribute7_min</th>\n",
       "      <th>attribute7_max</th>\n",
       "      <th>attribute7_mean</th>\n",
       "      <th>attribute9_min</th>\n",
       "      <th>attribute9_max</th>\n",
       "      <th>attribute9_mean</th>\n",
       "      <th>month</th>\n",
       "      <th>day</th>\n",
       "    </tr>\n",
       "  </thead>\n",
       "  <tbody>\n",
       "    <tr>\n",
       "      <th>0</th>\n",
       "      <td>-0.048196</td>\n",
       "      <td>-0.23249</td>\n",
       "      <td>-0.281386</td>\n",
       "      <td>-0.284761</td>\n",
       "      <td>0.368561</td>\n",
       "      <td>0.055319</td>\n",
       "      <td>-0.108859</td>\n",
       "      <td>-0.523682</td>\n",
       "      <td>-0.214718</td>\n",
       "      <td>0.598239</td>\n",
       "      <td>...</td>\n",
       "      <td>0.012357</td>\n",
       "      <td>0.159638</td>\n",
       "      <td>-0.055697</td>\n",
       "      <td>-0.26469</td>\n",
       "      <td>-0.260222</td>\n",
       "      <td>-0.483225</td>\n",
       "      <td>-0.546954</td>\n",
       "      <td>-0.541067</td>\n",
       "      <td>-1.439800</td>\n",
       "      <td>0.012783</td>\n",
       "    </tr>\n",
       "    <tr>\n",
       "      <th>1</th>\n",
       "      <td>-0.139985</td>\n",
       "      <td>-0.23249</td>\n",
       "      <td>-0.281386</td>\n",
       "      <td>-0.284761</td>\n",
       "      <td>-0.455746</td>\n",
       "      <td>0.211757</td>\n",
       "      <td>-0.108859</td>\n",
       "      <td>-0.523682</td>\n",
       "      <td>-1.772029</td>\n",
       "      <td>0.505365</td>\n",
       "      <td>...</td>\n",
       "      <td>0.194331</td>\n",
       "      <td>0.208455</td>\n",
       "      <td>-0.055697</td>\n",
       "      <td>-0.26469</td>\n",
       "      <td>-0.260222</td>\n",
       "      <td>-0.483225</td>\n",
       "      <td>-0.546954</td>\n",
       "      <td>-0.541067</td>\n",
       "      <td>0.870437</td>\n",
       "      <td>1.286405</td>\n",
       "    </tr>\n",
       "    <tr>\n",
       "      <th>2</th>\n",
       "      <td>-1.752483</td>\n",
       "      <td>-0.23249</td>\n",
       "      <td>-0.281386</td>\n",
       "      <td>-0.284761</td>\n",
       "      <td>0.206853</td>\n",
       "      <td>-0.619832</td>\n",
       "      <td>-0.108859</td>\n",
       "      <td>-0.523682</td>\n",
       "      <td>-0.077621</td>\n",
       "      <td>-0.596482</td>\n",
       "      <td>...</td>\n",
       "      <td>-0.849880</td>\n",
       "      <td>-0.641356</td>\n",
       "      <td>-0.055697</td>\n",
       "      <td>-0.26469</td>\n",
       "      <td>-0.260222</td>\n",
       "      <td>-0.483225</td>\n",
       "      <td>-0.546954</td>\n",
       "      <td>-0.541067</td>\n",
       "      <td>-0.193494</td>\n",
       "      <td>1.286405</td>\n",
       "    </tr>\n",
       "    <tr>\n",
       "      <th>3</th>\n",
       "      <td>-1.800554</td>\n",
       "      <td>-0.23249</td>\n",
       "      <td>-0.281386</td>\n",
       "      <td>-0.284761</td>\n",
       "      <td>-0.768224</td>\n",
       "      <td>0.520524</td>\n",
       "      <td>-0.108859</td>\n",
       "      <td>-0.523682</td>\n",
       "      <td>0.757999</td>\n",
       "      <td>0.416181</td>\n",
       "      <td>...</td>\n",
       "      <td>0.409759</td>\n",
       "      <td>0.576862</td>\n",
       "      <td>-0.055697</td>\n",
       "      <td>-0.26469</td>\n",
       "      <td>-0.260222</td>\n",
       "      <td>-0.483225</td>\n",
       "      <td>-0.546954</td>\n",
       "      <td>-0.541067</td>\n",
       "      <td>-0.193494</td>\n",
       "      <td>-0.579942</td>\n",
       "    </tr>\n",
       "    <tr>\n",
       "      <th>4</th>\n",
       "      <td>1.190611</td>\n",
       "      <td>-0.23249</td>\n",
       "      <td>-0.281386</td>\n",
       "      <td>-0.284761</td>\n",
       "      <td>0.206853</td>\n",
       "      <td>0.220575</td>\n",
       "      <td>-0.108859</td>\n",
       "      <td>-0.523682</td>\n",
       "      <td>0.902350</td>\n",
       "      <td>0.019611</td>\n",
       "      <td>...</td>\n",
       "      <td>0.160194</td>\n",
       "      <td>0.184088</td>\n",
       "      <td>-0.055697</td>\n",
       "      <td>-0.26469</td>\n",
       "      <td>-0.260222</td>\n",
       "      <td>-0.483225</td>\n",
       "      <td>-0.546954</td>\n",
       "      <td>-0.541067</td>\n",
       "      <td>1.132244</td>\n",
       "      <td>0.012783</td>\n",
       "    </tr>\n",
       "  </tbody>\n",
       "</table>\n",
       "<p>5 rows × 34 columns</p>\n",
       "</div>"
      ],
      "text/plain": [
       "   attribute1  attribute2  attribute3  attribute4  attribute5  attribute6  \\\n",
       "0   -0.048196    -0.23249   -0.281386   -0.284761    0.368561    0.055319   \n",
       "1   -0.139985    -0.23249   -0.281386   -0.284761   -0.455746    0.211757   \n",
       "2   -1.752483    -0.23249   -0.281386   -0.284761    0.206853   -0.619832   \n",
       "3   -1.800554    -0.23249   -0.281386   -0.284761   -0.768224    0.520524   \n",
       "4    1.190611    -0.23249   -0.281386   -0.284761    0.206853    0.220575   \n",
       "\n",
       "   attribute7  attribute9  attribute1_min  attribute1_max  ...  \\\n",
       "0   -0.108859   -0.523682       -0.214718        0.598239  ...   \n",
       "1   -0.108859   -0.523682       -1.772029        0.505365  ...   \n",
       "2   -0.108859   -0.523682       -0.077621       -0.596482  ...   \n",
       "3   -0.108859   -0.523682        0.757999        0.416181  ...   \n",
       "4   -0.108859   -0.523682        0.902350        0.019611  ...   \n",
       "\n",
       "   attribute6_max  attribute6_mean  attribute7_min  attribute7_max  \\\n",
       "0        0.012357         0.159638       -0.055697        -0.26469   \n",
       "1        0.194331         0.208455       -0.055697        -0.26469   \n",
       "2       -0.849880        -0.641356       -0.055697        -0.26469   \n",
       "3        0.409759         0.576862       -0.055697        -0.26469   \n",
       "4        0.160194         0.184088       -0.055697        -0.26469   \n",
       "\n",
       "   attribute7_mean  attribute9_min  attribute9_max  attribute9_mean     month  \\\n",
       "0        -0.260222       -0.483225       -0.546954        -0.541067 -1.439800   \n",
       "1        -0.260222       -0.483225       -0.546954        -0.541067  0.870437   \n",
       "2        -0.260222       -0.483225       -0.546954        -0.541067 -0.193494   \n",
       "3        -0.260222       -0.483225       -0.546954        -0.541067 -0.193494   \n",
       "4        -0.260222       -0.483225       -0.546954        -0.541067  1.132244   \n",
       "\n",
       "        day  \n",
       "0  0.012783  \n",
       "1  1.286405  \n",
       "2  1.286405  \n",
       "3 -0.579942  \n",
       "4  0.012783  \n",
       "\n",
       "[5 rows x 34 columns]"
      ]
     },
     "execution_count": 55,
     "metadata": {},
     "output_type": "execute_result"
    }
   ],
   "source": [
    "df_x_trans.columns = df_x.columns\n",
    "df_x_trans.head()"
   ]
  },
  {
   "cell_type": "code",
   "execution_count": 56,
   "id": "683b955f",
   "metadata": {},
   "outputs": [
    {
     "data": {
      "text/plain": [
       "attribute1          -0.011127\n",
       "attribute2          23.857827\n",
       "attribute3          82.711947\n",
       "attribute4          41.502446\n",
       "attribute5           3.483663\n",
       "attribute6          -0.375295\n",
       "attribute7          73.476162\n",
       "attribute9          49.899079\n",
       "attribute1_min      11.523415\n",
       "attribute1_max     -11.683028\n",
       "attribute1_mean      0.212197\n",
       "attribute2_min      31.289404\n",
       "attribute2_max       9.421608\n",
       "attribute2_mean     25.137160\n",
       "attribute3_min      83.525572\n",
       "attribute3_max      57.689751\n",
       "attribute3_mean     83.461838\n",
       "attribute4_min      55.763039\n",
       "attribute4_max      21.861858\n",
       "attribute4_mean     26.526126\n",
       "attribute5_min       3.520342\n",
       "attribute5_max       3.452842\n",
       "attribute5_mean      3.487433\n",
       "attribute6_min      -0.085675\n",
       "attribute6_max      -0.510404\n",
       "attribute6_mean     -0.422641\n",
       "attribute7_min     119.076894\n",
       "attribute7_max      15.031272\n",
       "attribute7_mean     60.214573\n",
       "attribute9_min      49.897190\n",
       "attribute9_max      49.900213\n",
       "attribute9_mean     49.899611\n",
       "month                0.564734\n",
       "day                  0.109547\n",
       "dtype: float64"
      ]
     },
     "execution_count": 56,
     "metadata": {},
     "output_type": "execute_result"
    }
   ],
   "source": [
    "df_x.skew()"
   ]
  },
  {
   "cell_type": "code",
   "execution_count": 57,
   "id": "409d6257",
   "metadata": {},
   "outputs": [],
   "source": [
    "# Create X and Y numpy arrays from randomized data \n",
    "x = np.array(df_x_trans)\n",
    "y = np.array(df_y)"
   ]
  },
  {
   "cell_type": "code",
   "execution_count": 58,
   "id": "363a7604",
   "metadata": {},
   "outputs": [
    {
     "data": {
      "text/plain": [
       "(124493, 34)"
      ]
     },
     "execution_count": 58,
     "metadata": {},
     "output_type": "execute_result"
    }
   ],
   "source": [
    "x.shape"
   ]
  },
  {
   "cell_type": "code",
   "execution_count": 59,
   "id": "2d1793c7",
   "metadata": {},
   "outputs": [
    {
     "data": {
      "text/plain": [
       "(124493,)"
      ]
     },
     "execution_count": 59,
     "metadata": {},
     "output_type": "execute_result"
    }
   ],
   "source": [
    "y.shape"
   ]
  },
  {
   "cell_type": "markdown",
   "id": "bd97346c",
   "metadata": {},
   "source": [
    "### Split the data for test and train"
   ]
  },
  {
   "cell_type": "markdown",
   "id": "0ceb9692",
   "metadata": {},
   "source": [
    "%80 for training and %20 for testing"
   ]
  },
  {
   "cell_type": "code",
   "execution_count": 60,
   "id": "99b7f849",
   "metadata": {},
   "outputs": [],
   "source": [
    "# train test split\n",
    "x_train, x_test, y_train, y_test = train_test_split(x, y, test_size=0.2, random_state=0, stratify=y)"
   ]
  },
  {
   "cell_type": "code",
   "execution_count": 61,
   "id": "e1e77a2e",
   "metadata": {},
   "outputs": [
    {
     "data": {
      "text/plain": [
       "21"
      ]
     },
     "execution_count": 61,
     "metadata": {},
     "output_type": "execute_result"
    }
   ],
   "source": [
    "y_test.sum()"
   ]
  },
  {
   "cell_type": "markdown",
   "id": "184ee318",
   "metadata": {},
   "source": [
    "### Handle unbalanced data"
   ]
  },
  {
   "cell_type": "markdown",
   "id": "aa07e662",
   "metadata": {},
   "source": [
    "One approach to addressing imbalanced datasets is to oversample the minority class. The simplest approach involves duplicating examples in the minority class, although these examples don’t add any new information to the model. Instead, new examples can be synthesized from the existing examples. This is a type of data augmentation for the minority class and is referred to as the Synthetic Minority Oversampling Technique, or SMOTE for short."
   ]
  },
  {
   "cell_type": "code",
   "execution_count": 62,
   "id": "d91cc995",
   "metadata": {},
   "outputs": [
    {
     "name": "stdout",
     "output_type": "stream",
     "text": [
      "(199018, 34)\n"
     ]
    }
   ],
   "source": [
    "# SMOTE train data\n",
    "\n",
    "os = SMOTE(random_state=0)\n",
    "x_train, y_train = os.fit_sample(x_train, y_train)\n",
    "\n",
    "print(x_train.shape)"
   ]
  },
  {
   "cell_type": "markdown",
   "id": "3ddc64f6",
   "metadata": {},
   "source": [
    "### Standardize the data"
   ]
  },
  {
   "cell_type": "markdown",
   "id": "d9661040",
   "metadata": {},
   "source": [
    "We used train data standart deviation and mean to stardardize the tessst data as well since we might not have acccess to whole test data while testing cases indivually."
   ]
  },
  {
   "cell_type": "code",
   "execution_count": 63,
   "id": "6f8aa23a",
   "metadata": {},
   "outputs": [],
   "source": [
    "# mean and standart deviation of the training data\n",
    "x_train_mean = np.mean(x_train, axis=0)\n",
    "x_train_std = np.std(x_train, axis=0, ddof=1)\n",
    "\n",
    "# standardize the train and test data\n",
    "eps = 1e-10\n",
    "x_train_stan = (x_train - x_train_mean+eps) / (x_train_std+eps)\n",
    "x_test_stan = (x_test - x_train_mean+eps) / (x_train_std+eps)"
   ]
  },
  {
   "cell_type": "markdown",
   "id": "66534ac3",
   "metadata": {},
   "source": [
    "## 4. Model"
   ]
  },
  {
   "cell_type": "markdown",
   "id": "772529fa",
   "metadata": {},
   "source": [
    "We have a classification probelm. We are trying to catch the failure cases. We picked logistic regression model.\n",
    "Logistic regression is a classification algorithm used to find the probability of event success and event failure.\n",
    "Logistic regression is easier to implement, interpret, and very efficient to train."
   ]
  },
  {
   "cell_type": "markdown",
   "id": "0ff5f95d",
   "metadata": {},
   "source": [
    "clf = LogisticRegression(random_state=0, max_iter=1000).fit(x_train_stan, y_train)"
   ]
  },
  {
   "cell_type": "code",
   "execution_count": 64,
   "id": "4003c90a",
   "metadata": {},
   "outputs": [
    {
     "ename": "NameError",
     "evalue": "name 'clf' is not defined",
     "output_type": "error",
     "traceback": [
      "\u001b[0;31m---------------------------------------------------------------------------\u001b[0m",
      "\u001b[0;31mNameError\u001b[0m                                 Traceback (most recent call last)",
      "\u001b[0;32m<ipython-input-64-ec9abee2ea98>\u001b[0m in \u001b[0;36m<module>\u001b[0;34m\u001b[0m\n\u001b[1;32m      1\u001b[0m \u001b[0;31m# y_pred = clf.predict(x_test)\u001b[0m\u001b[0;34m\u001b[0m\u001b[0;34m\u001b[0m\u001b[0;34m\u001b[0m\u001b[0m\n\u001b[0;32m----> 2\u001b[0;31m \u001b[0mpred_proba_df\u001b[0m \u001b[0;34m=\u001b[0m \u001b[0mpd\u001b[0m\u001b[0;34m.\u001b[0m\u001b[0mDataFrame\u001b[0m\u001b[0;34m(\u001b[0m\u001b[0mclf\u001b[0m\u001b[0;34m.\u001b[0m\u001b[0mpredict_proba\u001b[0m\u001b[0;34m(\u001b[0m\u001b[0mx_test\u001b[0m\u001b[0;34m)\u001b[0m\u001b[0;34m)\u001b[0m\u001b[0;34m\u001b[0m\u001b[0;34m\u001b[0m\u001b[0m\n\u001b[0m\u001b[1;32m      3\u001b[0m \u001b[0my_pred\u001b[0m \u001b[0;34m=\u001b[0m \u001b[0mnp\u001b[0m\u001b[0;34m.\u001b[0m\u001b[0marray\u001b[0m\u001b[0;34m(\u001b[0m\u001b[0mpred_proba_df\u001b[0m\u001b[0;34m.\u001b[0m\u001b[0mapplymap\u001b[0m\u001b[0;34m(\u001b[0m\u001b[0;32mlambda\u001b[0m \u001b[0mx\u001b[0m\u001b[0;34m:\u001b[0m \u001b[0;36m0\u001b[0m \u001b[0;32mif\u001b[0m \u001b[0mx\u001b[0m\u001b[0;34m>\u001b[0m\u001b[0;36m1e-5\u001b[0m \u001b[0;32melse\u001b[0m \u001b[0;36m1\u001b[0m\u001b[0;34m)\u001b[0m\u001b[0;34m[\u001b[0m\u001b[0;36m0\u001b[0m\u001b[0;34m]\u001b[0m\u001b[0;34m)\u001b[0m\u001b[0;34m\u001b[0m\u001b[0;34m\u001b[0m\u001b[0m\n",
      "\u001b[0;31mNameError\u001b[0m: name 'clf' is not defined"
     ]
    }
   ],
   "source": [
    "# y_pred = clf.predict(x_test)\n",
    "pred_proba_df = pd.DataFrame(clf.predict_proba(x_test))\n",
    "y_pred = np.array(pred_proba_df.applymap(lambda x: 0 if x>1e-5 else 1)[0])"
   ]
  },
  {
   "cell_type": "markdown",
   "id": "90a395f5",
   "metadata": {},
   "source": [
    "The logistic regression calculates the probabilties of the each class. We tuned the trashold that makes the prediction based on the probabilies."
   ]
  },
  {
   "cell_type": "code",
   "execution_count": null,
   "id": "1cf53abc",
   "metadata": {},
   "outputs": [],
   "source": [
    "cf_matrix = confusion_matrix(y_test, y_pred)\n",
    "cf_matrix"
   ]
  },
  {
   "cell_type": "code",
   "execution_count": null,
   "id": "d7b39269",
   "metadata": {},
   "outputs": [],
   "source": [
    "ax = sns.heatmap(cf_matrix, annot=True, cmap='Blues')\n",
    "\n",
    "ax.set_title('Seaborn Confusion Matrix with labels\\n\\n');\n",
    "ax.set_xlabel('\\nPredicted Values')\n",
    "ax.set_ylabel('Actual Values ');\n",
    "\n",
    "## Ticket labels - List must be in alphabetical order\n",
    "ax.xaxis.set_ticklabels(['False','True'])\n",
    "ax.yaxis.set_ticklabels(['False','True'])\n",
    "\n",
    "## Display the visualization of the Confusion Matrix.\n",
    "plt.show()"
   ]
  },
  {
   "cell_type": "code",
   "execution_count": null,
   "id": "1ecad633",
   "metadata": {},
   "outputs": [],
   "source": [
    "TP = sum(y_pred + y_test == 2) # it is 1, prediction says 1\n",
    "FP = sum(y_pred - y_test == 1) # it is 0, prediction says 1\n",
    "TN = sum(y_pred + y_test == 0) # it is 0, prediction says 0\n",
    "FN = sum(y_pred - y_test == -1) # it is 1, prediction says 0\n",
    "\n",
    "print(\"\\nResults Summary:\\n\")\n",
    "print(\"True Positive:\", TP)\n",
    "print(\"False Positive:\", FP)\n",
    "print(\"True Negative:\", TN)\n",
    "print(\"False Negative:\", FN)\n",
    "\n",
    "accuracy = (TP + TN) / (TP + FP + TN + FN)\n",
    "precision = TP / (TP + FP)\n",
    "recall = TP / (TP + FN)\n",
    "f1 = (2*precision*recall) / (precision + recall)\n",
    "\n",
    "print(\"\\nPrecision:\", precision)\n",
    "print(\"Recall:\", recall)\n",
    "print(\"F1:\", f1)\n",
    "print(\"Accuracy:\", accuracy)"
   ]
  },
  {
   "cell_type": "markdown",
   "id": "c0905b8c",
   "metadata": {},
   "source": [
    "## 5. Conclusion"
   ]
  },
  {
   "cell_type": "markdown",
   "id": "94892c6c",
   "metadata": {},
   "source": [
    "The data was cleaned by removing duplicates.\n",
    "Performed feature exctraction by adding min, max, and mean values for each feature of each device. Also, failure rate per month info calculated and added to the data.\n",
    "\n",
    "This data set was very unbalanced. Before applying any machine learning algoritm, we applied SMOTE to mitigate the impact of a small number of observed failures.\n",
    "\n",
    "Logistic regression model is created.\n",
    "The accuracy of the model is 0.95. The precision is 0.016 and Recall is 0.85.\n",
    "\n",
    "There were total 21 failures in the test data. 18 of them detected with the designed model.\n",
    "We have 1066 false positives. It means there was no failure but the model detect it as failure. Even thugh, There is no harm for this classification, we can improve it by changing the hyperparameters."
   ]
  },
  {
   "cell_type": "code",
   "execution_count": null,
   "id": "1b622a33",
   "metadata": {},
   "outputs": [],
   "source": []
  }
 ],
 "metadata": {
  "kernelspec": {
   "display_name": "Python 3",
   "language": "python",
   "name": "python3"
  },
  "language_info": {
   "codemirror_mode": {
    "name": "ipython",
    "version": 3
   },
   "file_extension": ".py",
   "mimetype": "text/x-python",
   "name": "python",
   "nbconvert_exporter": "python",
   "pygments_lexer": "ipython3",
   "version": "3.8.3"
  }
 },
 "nbformat": 4,
 "nbformat_minor": 5
}
